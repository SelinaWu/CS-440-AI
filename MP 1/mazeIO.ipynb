{
 "cells": [
  {
   "cell_type": "code",
   "execution_count": 108,
   "metadata": {
    "collapsed": false
   },
   "outputs": [],
   "source": [
    "# CS440_MP01_V1\n",
    "# Team Member:Zhenwei Wu, Yuji Chai, Zhoushi Zhu\n",
    "# function list\n",
    "# drawMaze(ls): print out maze;\n",
    "# heuristic(ls,end): generate distance from target(or 'food'), return a 2D list\n",
    "# drawSol(ls,map): draw solution on maze(or 'origin_mazeList')\n",
    "# bfs(ls, start), dfs(ls, start), A_star(ls),\n",
    "# 1) open text file by fp; \n",
    "# 2) copy text file into mazeList[], use in path searching; \n",
    "# 3) deepcopy origin_mazeList[] from mazeList[], use in drawSol(ls,map).\n",
    "fp = './openMaze.txt'\n",
    "mazeList=[]\n",
    "origin_mazeList=[]\n",
    "mazeMap={}\n",
    "row=0\n",
    "column=0\n",
    "ct=0\n",
    "pecman=0\n",
    "food=0\n",
    "\n",
    "with open(fp) as f:  \n",
    "    for line in f:\n",
    "        row+=1\n",
    "        column=len(line)\n",
    "        temp=[]\n",
    "        for a in line:\n",
    "            if(a=='%'):\n",
    "                temp.append('%')\n",
    "                ct+=1\n",
    "            elif(a=='P'):\n",
    "                temp.append('P')\n",
    "                ct+=1\n",
    "                pecman=ct\n",
    "            elif(a=='.'):\n",
    "                temp.append('.')\n",
    "                ct+=1\n",
    "                food=ct\n",
    "            elif(a==' '):\n",
    "                temp.append(' ')\n",
    "                ct+=1\n",
    "        mazeList.append(temp)\n",
    "        \n",
    "import copy\n",
    "origin_mazeList=copy.deepcopy(mazeList)"
   ]
  },
  {
   "cell_type": "code",
   "execution_count": 109,
   "metadata": {
    "collapsed": false
   },
   "outputs": [],
   "source": [
    "def drawMaze(ls):\n",
    "    for i in ls:\n",
    "        temp=\"\"\n",
    "        for j in i:\n",
    "            temp+=j\n",
    "        print(temp)"
   ]
  },
  {
   "cell_type": "code",
   "execution_count": 110,
   "metadata": {
    "collapsed": false
   },
   "outputs": [
    {
     "name": "stdout",
     "output_type": "stream",
     "text": [
      "%%%%%%%%%%%%%%%%%%%%%%%%%%%%%%%%%%%%%\n",
      "%                     %P            %\n",
      "%                     %             %\n",
      "%                     %             %\n",
      "%                     %             %\n",
      "%                     %             %\n",
      "%                     %%%%%%%%      %\n",
      "%                            %      %\n",
      "%                            %      %\n",
      "%                            %      %\n",
      "%                            %      %\n",
      "%                            %      %\n",
      "%      %%%%%%%%%%%%%%%%%            %\n",
      "%      %                            %\n",
      "%      %                            %\n",
      "%      %                            %\n",
      "%      %                            %\n",
      "%      %%%%                         %\n",
      "%        .%                         %\n",
      "%%%%%%%%%%%%%%%%%%%%%%%%%%%%%%%%%%%%%\n",
      "row:  20  ;column:  37\n",
      "pecman:  61  ;food:  676\n"
     ]
    }
   ],
   "source": [
    "drawMaze(mazeList)\n",
    "print(\"row: \",row,\" ;column: \",column)\n",
    "print(\"pecman: \",pecman,\" ;food: \",food)"
   ]
  },
  {
   "cell_type": "code",
   "execution_count": 111,
   "metadata": {
    "collapsed": true
   },
   "outputs": [],
   "source": [
    "def heuristic(ls,end):\n",
    "    h=[]\n",
    "    xe=int(end/column)\n",
    "    ye=int(end%column-1)\n",
    "    for a in range(len(ls)):\n",
    "        temp=[]\n",
    "        for b in range(len(ls[0])):\n",
    "            #print(a,',',b)\n",
    "            temp.append(abs(xe-a)+abs(ye-b))\n",
    "        h.append(temp)\n",
    "    return h"
   ]
  },
  {
   "cell_type": "code",
   "execution_count": 112,
   "metadata": {
    "collapsed": false
   },
   "outputs": [],
   "source": [
    "H=heuristic(mazeList,food)"
   ]
  },
  {
   "cell_type": "code",
   "execution_count": 113,
   "metadata": {
    "collapsed": false
   },
   "outputs": [],
   "source": [
    "def greedy_best_first_search(ls,start):\n",
    "    stack=[[start, H[int(start/column)][start%column-1]]]\n",
    "    node_checked = 0\n",
    "    while stack:\n",
    "        i=stack.pop(0)\n",
    "        ind = i[0]\n",
    "        #calculate row as 'r', column as 'c', find current content use ls[r][c]\n",
    "        r=int(ind/column)\n",
    "        c=ind%column-1\n",
    "        cur=ls[r][c]\n",
    "        if cur != '%' and cur != 'V':\n",
    "            if cur is '.':\n",
    "                break\n",
    "            #print(r,',',c,ls[r][c])\n",
    "            ls[r][c]='V'\n",
    "            # around_cur stores information of cells near current cell\n",
    "            # with a format of [ind,distance]\n",
    "            # right\n",
    "            if (c+1)<column:\n",
    "                if ls[r][c+1] != 'V' and ls[r][c+1] != '%':\n",
    "                    temp=ind+1                  \n",
    "                    mazeMap[temp]=ind\n",
    "                    #print(r,',',c+1,ls[r][c+1])\n",
    "                    stack.append([temp,H[r][c+1]])\n",
    "                    node_checked += 1\n",
    "            # left\n",
    "            if (c-1)>=0:\n",
    "                if ls[r][c-1] != 'V' and ls[r][c-1] != '%':\n",
    "                    temp=ind-1       \n",
    "                    mazeMap[temp]=ind\n",
    "                    #print(r,',',c-1,ls[r][c-1])\n",
    "                    stack.append([temp,H[r][c-1]])\n",
    "                    node_checked += 1\n",
    "            # down\n",
    "            if (r+1)<row:\n",
    "                if ls[r+1][c] != 'V' and ls[r+1][c] != '%':\n",
    "                    temp=ind+column\n",
    "                    mazeMap[temp]=ind\n",
    "                    #print(r+1,',',c,ls[r+1][c])\n",
    "                    stack.append([temp,H[r+1][c]])\n",
    "                    node_checked += 1\n",
    "            # up\n",
    "            if (r-1)>=0:\n",
    "                if ls[r-1][c] != 'V' and ls[r-1][c] != '%':\n",
    "                    temp=ind-column\n",
    "                    mazeMap[temp]=ind\n",
    "                    #print(r-1,',',c,ls[r-1][c])\n",
    "                    stack.append([temp,H[r-1][c]])\n",
    "                    node_checked += 1\n",
    "            \n",
    "            # sort around_cur by distance\n",
    "        stack=sorted(stack, key=lambda a: a[1])\n",
    "    print(\"Total steps:\", node_checked)"
   ]
  },
  {
   "cell_type": "code",
   "execution_count": 114,
   "metadata": {
    "collapsed": false
   },
   "outputs": [],
   "source": [
    "# draw solution from food->pecman on mazeList; \n",
    "# need drawMaze(mazeList) to visualize path \n",
    "# ct: total steps\n",
    "       \n",
    "def drawSol(ls,map):\n",
    "    x=food\n",
    "    ct=0\n",
    "    while x != pecman:\n",
    "        #print(x)\n",
    "        r=int(x/column)\n",
    "        c=x%column-1\n",
    "        ls[r][c]='.'\n",
    "        x=mazeMap[x]\n",
    "        ct+=1\n",
    "    return ct"
   ]
  },
  {
   "cell_type": "code",
   "execution_count": 115,
   "metadata": {
    "collapsed": false
   },
   "outputs": [
    {
     "name": "stdout",
     "output_type": "stream",
     "text": [
      "Total steps: 375\n"
     ]
    }
   ],
   "source": [
    "greedy_best_first_search(mazeList,pecman)"
   ]
  },
  {
   "cell_type": "code",
   "execution_count": 116,
   "metadata": {
    "collapsed": false
   },
   "outputs": [
    {
     "data": {
      "text/plain": [
       "53"
      ]
     },
     "execution_count": 116,
     "metadata": {},
     "output_type": "execute_result"
    }
   ],
   "source": [
    "drawSol(origin_mazeList,mazeMap)\n",
    "drawSol(mazeList,mazeMap)"
   ]
  },
  {
   "cell_type": "code",
   "execution_count": 117,
   "metadata": {
    "collapsed": false,
    "scrolled": true
   },
   "outputs": [
    {
     "name": "stdout",
     "output_type": "stream",
     "text": [
      "%%%%%%%%%%%%%%%%%%%%%%%%%%%%%%%%%%%%%\n",
      "%                     %P            %\n",
      "%                     %.            %\n",
      "%                     %.            %\n",
      "%                     %.            %\n",
      "%                     %........     %\n",
      "%                     %%%%%%%%.     %\n",
      "%                            %.     %\n",
      "%                            %.     %\n",
      "%                            %.     %\n",
      "%                            %.     %\n",
      "%     ...................    %.     %\n",
      "%     .%%%%%%%%%%%%%%%%%.......     %\n",
      "%     .%                            %\n",
      "%     .%                            %\n",
      "%     .%                            %\n",
      "%     .%                            %\n",
      "%     .%%%%                         %\n",
      "%     ....%                         %\n",
      "%%%%%%%%%%%%%%%%%%%%%%%%%%%%%%%%%%%%%\n",
      "%%%%%%%%%%%%%%%%%%%%%%%%%%%%%%%%%%%%%\n",
      "%                     %VVVV         %\n",
      "%                     %.VVVV        %\n",
      "%                     %.VVVVV       %\n",
      "%                     %.VVVVVV      %\n",
      "%                     %........     %\n",
      "%                     %%%%%%%%.     %\n",
      "%                            %.     %\n",
      "%                            %.     %\n",
      "%        VV                  %.     %\n",
      "%       VVVV                 %.     %\n",
      "%     ...................    %.     %\n",
      "%     .%%%%%%%%%%%%%%%%%.......     %\n",
      "%     .%VVVVVVVVVVVVVVVVVVV         %\n",
      "%     .%VVVVVVVVVVVVVVVVVVV         %\n",
      "%     .%VVVVVVVVVVVVVVVVVVVV        %\n",
      "%     .%VVVVVVVVVVVVVVVVVVVVV       %\n",
      "%     .%%%%VVVVVVVVVVVVVVVVVVV      %\n",
      "%     ....%VVVVVVVVVVVVVVVVVVVV     %\n",
      "%%%%%%%%%%%%%%%%%%%%%%%%%%%%%%%%%%%%%\n"
     ]
    }
   ],
   "source": [
    "drawMaze(origin_mazeList)\n",
    "drawMaze(mazeList)"
   ]
  },
  {
   "cell_type": "code",
   "execution_count": null,
   "metadata": {
    "collapsed": true
   },
   "outputs": [],
   "source": []
  },
  {
   "cell_type": "code",
   "execution_count": null,
   "metadata": {
    "collapsed": true
   },
   "outputs": [],
   "source": []
  }
 ],
 "metadata": {
  "anaconda-cloud": {},
  "kernelspec": {
   "display_name": "Python [conda root]",
   "language": "python",
   "name": "conda-root-py"
  },
  "language_info": {
   "codemirror_mode": {
    "name": "ipython",
    "version": 3
   },
   "file_extension": ".py",
   "mimetype": "text/x-python",
   "name": "python",
   "nbconvert_exporter": "python",
   "pygments_lexer": "ipython3",
   "version": "3.5.2"
  }
 },
 "nbformat": 4,
 "nbformat_minor": 1
}
