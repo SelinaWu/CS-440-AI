{
 "cells": [
  {
   "cell_type": "code",
   "execution_count": null,
   "metadata": {
    "collapsed": true
   },
   "outputs": [],
   "source": [
    "# input: ls - a list which records maze content, such as wall, food, pecman\n",
    "#        start - an index of the search beginning position, here is the index of pecman\n",
    "#\n",
    "# output: None\n",
    "#         Record paths in a dictionary, which current node maps with its parent node,\n",
    "#         so we can access the previous node(or data item) with current node(or key)\n",
    "\n",
    "def bfs(ls, start):\n",
    "    \n",
    "    initiate queue with only one element - the search starting position \n",
    "    initiate node_checked to 0 and use the variable to record the number of expanded nodes\n",
    "    \n",
    "    while there has element in queue:\n",
    "        pop queue\n",
    "        if current element is not wall and has not been visited\n",
    "            if current element is food\n",
    "                break\n",
    "            check the elements(e.g. right, left, top, down) around the current one \n",
    "            push the around_elemnt into queue\n",
    "            dic[around_elemnet] = current_element\n",
    "            node_checked plus one\n",
    "        \n",
    "    print node_checked        \n",
    "  "
   ]
  },
  {
   "cell_type": "code",
   "execution_count": 1,
   "metadata": {
    "collapsed": false
   },
   "outputs": [
    {
     "ename": "SyntaxError",
     "evalue": "invalid syntax (<ipython-input-1-920452792cba>, line 10)",
     "output_type": "error",
     "traceback": [
      "\u001b[0;36m  File \u001b[0;32m\"<ipython-input-1-920452792cba>\"\u001b[0;36m, line \u001b[0;32m10\u001b[0m\n\u001b[0;31m    initiate stack with only one element - the search starting position\u001b[0m\n\u001b[0m                 ^\u001b[0m\n\u001b[0;31mSyntaxError\u001b[0m\u001b[0;31m:\u001b[0m invalid syntax\n"
     ]
    }
   ],
   "source": [
    "# input: ls - a list which records maze content, such as wall, food, pecman\n",
    "#        start - an index of the search beginning position, here is the index of pecman\n",
    "#\n",
    "# output: None\n",
    "#         Record paths in a dictionary, which current node maps with its parent node,\n",
    "#         so we can access the previous node(or data item) with current node(or key)\n",
    "\n",
    "def dfs(ls, start):\n",
    "    \n",
    "    initiate stack with only one element - the search starting position \n",
    "    initiate node_checked to 0 and use the variable to record the number of expanded nodes\n",
    "    \n",
    "    while there has element in stack:\n",
    "        pop stack\n",
    "        if current element is not wall and has not been visited\n",
    "            if current element is food\n",
    "                break\n",
    "            check the elements(e.g. right, left, top, down) around the current one \n",
    "            push the around_elemnt into stack\n",
    "            dic[around_elemnet] = current_element\n",
    "            node_checked plus one\n",
    "        \n",
    "    print node_checked        \n",
    "  "
   ]
  },
  {
   "cell_type": "code",
   "execution_count": null,
   "metadata": {
    "collapsed": true
   },
   "outputs": [],
   "source": [
    "# input: ls - a list which records maze content, such as wall, food, pecman\n",
    "#        start - an index of the search beginning position, here is the index of pecman\n",
    "# additional parameter: heuristic function\n",
    "# output: None\n",
    "#         Record paths in a dictionary, which current node maps with its parent node,\n",
    "#         so we can access the previous node(or data item) with current node(or key)\n",
    "\n",
    "def A_star(ls, start):\n",
    "    \n",
    "    initiate queue with only one element - [the search starting position, heuristic, step]\n",
    "    initiate node_checked to 0 and use the variable to record the number of expanded nodes\n",
    "    \n",
    "    while there has element in queue:\n",
    "        pop queue\n",
    "        if current element is not wall and has not been visited\n",
    "            if current element is food\n",
    "                break\n",
    "            check the elements(e.g. right, left, top, down) around the current one \n",
    "            push the [around_elemnt, heuristic, step + 1] into queue\n",
    "            dic[around_elemnet] = current_element\n",
    "            node_checked plus one\n",
    "        sored the queue by step number\n",
    "        \n",
    "    print node_checked        \n",
    "  "
   ]
  },
  {
   "cell_type": "code",
   "execution_count": null,
   "metadata": {
    "collapsed": true
   },
   "outputs": [],
   "source": [
    "# input: ls - a list which records maze content, such as wall, food, pecman\n",
    "#        start - an index of the search beginning position, here is the index of pecman\n",
    "# additional parameter: heuristic function\n",
    "# output: None\n",
    "#         Record paths in a dictionary, which current node maps with its parent node,\n",
    "#         so we can access the previous node(or data item) with current node(or key)\n",
    "\n",
    "def greedy_best_first_search(ls, start):\n",
    "    \n",
    "    initiate queue with only one element - [starting position, heuristic]\n",
    "    initiate node_checked to 0 and use the variable to record the number of expanded nodes\n",
    "    \n",
    "    while there has element in queue:\n",
    "        pop queue\n",
    "        if current element is not wall and has not been visited\n",
    "            if current element is food\n",
    "                break\n",
    "            check the elements(e.g. right, left, down, up) around the current one \n",
    "            push the [around_elemnt, heuristic] into queue\n",
    "            dic[around_elemnet] = current_element\n",
    "            node_checked plus one\n",
    "        sored the queue by heuristic number\n",
    "        \n",
    "    print node_checked    "
   ]
  }
 ],
 "metadata": {
  "kernelspec": {
   "display_name": "Python [conda root]",
   "language": "python",
   "name": "conda-root-py"
  },
  "language_info": {
   "codemirror_mode": {
    "name": "ipython",
    "version": 3
   },
   "file_extension": ".py",
   "mimetype": "text/x-python",
   "name": "python",
   "nbconvert_exporter": "python",
   "pygments_lexer": "ipython3",
   "version": "3.5.2"
  }
 },
 "nbformat": 4,
 "nbformat_minor": 1
}
