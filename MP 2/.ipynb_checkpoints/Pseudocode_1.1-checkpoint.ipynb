{
 "cells": [
  {
   "cell_type": "code",
   "execution_count": null,
   "metadata": {
    "collapsed": true
   },
   "outputs": [],
   "source": [
    "# Input Widgets components\n",
    "#     #0   #1   #2   #3   #4\n",
    "W =[ ['A', 'E', 'D', 'C', 'A'],  # w0\n",
    "     ['B', 'E', 'A', 'C', 'D'],  # w1\n",
    "     ['B', 'A', 'B', 'C', 'E'],  # w2\n",
    "     ['D', 'A', 'D', 'B', 'D'],  # W3\n",
    "     ['B', 'E', 'C', 'B', 'D'] ] # W4\n",
    "\n",
    "# pt_sample = [Widget#, #inWidget, (pt1, pt2, pt3, pt4, pt5), steps]\n",
    "# For example: pt_sample = [0, 2, [2, 2, 2, 2, 2], 4]\n",
    "# heuristic for smallest stops\n",
    "def heuristic(pt):\n",
    "    distance = [0, 0, 0, 0, 0]\n",
    "    for i in range(5):\n",
    "        curr = pt[2][i]\n",
    "        temp = [0, 0, 0, 0, 0]\n",
    "        if i == pt[0]:\n",
    "            curr += 1 \n",
    "        while curr != len(W[i]):\n",
    "            # check the char in W[i][curr]\n",
    "            # count the appearance time of each char\n",
    "            if   'A': temp[0] += 1\n",
    "            elif 'B': temp[1] += 1\n",
    "            elif 'C': temp[2] += 1\n",
    "            elif 'D': temp[3] += 1\n",
    "            elif 'E': temp[4] += 1\n",
    "            curr += 1 \n",
    "        for a in range(5):\n",
    "            if distance[a] < temp[a]:\n",
    "                replace distance[a] with temp[a]\n",
    "    return sum(distance) + curr_steps"
   ]
  },
  {
   "cell_type": "code",
   "execution_count": null,
   "metadata": {
    "collapsed": true
   },
   "outputs": [],
   "source": [
    "# s = [0,[-1, -1, (0, 0, 0, 0, 0), step]]\n",
    "import heapq\n",
    "import copy\n",
    "\n",
    "def A_star(W):\n",
    "    curr_char = {}\n",
    "    loc = [0, 0, 0, 0, 0]\n",
    "    heap = []\n",
    "    ct = 0\n",
    "    # initialize points\n",
    "    for i in range(5):\n",
    "        if curr_char.get(W[i][0]) == None:\n",
    "            curr_char[W[i][0]] = 1\n",
    "            temp_pt = [i, 0, loc, 1]\n",
    "            temp_h = heuristic(temp_pt)\n",
    "            heapq.heappush(heap, [temp_h, temp_pt,W[i][0]])\n",
    "    # start search\n",
    "    while heap:\n",
    "        curr_char.clear() # clear the dictionary\n",
    "        curr_pt = heapq.heappop(heap)\n",
    "        ct += 1\n",
    "        curr_loc = copy.deepcopy(curr_pt[1][2])\n",
    "        curr_w = W[curr_pt[1][0]][curr_pt[1][1]]\n",
    "        # update new location\n",
    "        for i in range(5):\n",
    "            if curr_loc[i] < len(W[i]):\n",
    "                if W[i][curr_loc[i]] == curr_w:\n",
    "                    curr_loc[i] += 1\n",
    "        if sum(curr_loc) == 25:\n",
    "            print(\"Total explore:\", ct)\n",
    "            print(\"Final result:\", curr_pt)\n",
    "            break\n",
    "        # push all new points\n",
    "        for i in range(5):\n",
    "            if curr_loc[i] < len(W[i]):\n",
    "                if curr_char.get(W[i][curr_loc[i]]) == None:\n",
    "                    curr_char[W[i][curr_loc[i]]] = 1\n",
    "                    temp_pt = [i, curr_loc[i], curr_loc, curr_pt[1][3] + 1]# add one to the original step\n",
    "                    temp_h = heuristic(temp_pt)\n",
    "                    heapq.heappush(heap, [temp_h, temp_pt,curr_pt[2] + W[i][curr_loc[i]]])\n",
    "        "
   ]
  }
 ],
 "metadata": {
  "anaconda-cloud": {},
  "kernelspec": {
   "display_name": "Python [conda env:anaconda]",
   "language": "python",
   "name": "conda-env-anaconda-py"
  },
  "language_info": {
   "codemirror_mode": {
    "name": "ipython",
    "version": 3
   },
   "file_extension": ".py",
   "mimetype": "text/x-python",
   "name": "python",
   "nbconvert_exporter": "python",
   "pygments_lexer": "ipython3",
   "version": "3.5.2"
  }
 },
 "nbformat": 4,
 "nbformat_minor": 1
}
