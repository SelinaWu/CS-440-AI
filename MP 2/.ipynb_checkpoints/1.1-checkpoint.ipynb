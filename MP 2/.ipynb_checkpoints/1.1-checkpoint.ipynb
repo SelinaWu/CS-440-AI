{
 "cells": [
  {
   "cell_type": "code",
   "execution_count": null,
   "metadata": {
    "collapsed": true
   },
   "outputs": [],
   "source": [
    "The goal of this assignment is to implement A* search that will find two different factory sequences:\n",
    "\n",
    "    1. find the factory sequence with the smallest number of stops (the smallest number of factories visited).\n",
    "    2. find the factory sequence with the smallest number of miles traveled.\n",
    "\n",
    "Solve this problem using A* search. Your report should specify your state representation, actions, and your heuristic. \n",
    "The heuristic need not be very smart, but it needs to be non-zero, and it needs to be admissible and consistent."
   ]
  },
  {
   "cell_type": "code",
   "execution_count": 24,
   "metadata": {
    "collapsed": false
   },
   "outputs": [
    {
     "name": "stdout",
     "output_type": "stream",
     "text": [
      "10\n"
     ]
    }
   ],
   "source": [
    "# W0, W1, W2, W3, W4\n",
    "W =[ ['A', 'E', 'D', 'C', 'A'],\n",
    "     ['B', 'E', 'A', 'C', 'D'],\n",
    "     ['B', 'A', 'B', 'C', 'E'],\n",
    "     ['D', 'A', 'D', 'B', 'D'],\n",
    "     ['B', 'E', 'C', 'B', 'D'] ]\n",
    "\n",
    "# pt_sample = [W#, # widget, (pt1, pt2, pt3, pt4, pt5), steps]\n",
    "pt_sample = [0, 2, [2, 2, 2, 2, 2], 4]\n",
    "# heuristic for smallest stops\n",
    "def heuristic(pt):\n",
    "    distance = [0, 0, 0, 0, 0]\n",
    "    for i in range(5):\n",
    "        curr = pt[2][i]\n",
    "        temp = [0, 0, 0, 0, 0]\n",
    "        if i == pt[0]:\n",
    "            curr += 1 \n",
    "        while curr != len(W[i]):\n",
    "            if(W[i][curr] == 'A'):\n",
    "                temp[0] += 1\n",
    "            elif(W[i][curr] == 'B'):\n",
    "                temp[1] += 1\n",
    "            elif(W[i][curr] == 'C'):\n",
    "                temp[2] += 1\n",
    "            elif(W[i][curr] == 'D'):\n",
    "                temp[3] += 1\n",
    "            elif(W[i][curr] == 'E'):\n",
    "                temp[4] += 1\n",
    "            curr += 1 \n",
    "        for a in range(len(temp)):\n",
    "            if(distance[a] < temp[a]):\n",
    "                distance[a] = temp[a]\n",
    "    return sum(distance) + pt[-1]\n",
    "print(heuristic(pt_sample))"
   ]
  },
  {
   "cell_type": "code",
   "execution_count": 16,
   "metadata": {
    "collapsed": false
   },
   "outputs": [],
   "source": [
    "# s = [0,[-1, -1, (0, 0, 0, 0, 0), step]]\n",
    "import heapq\n",
    "import copy\n",
    "\n",
    "def A_star(W):\n",
    "    curr_char = {}\n",
    "    loc = [0, 0, 0, 0, 0]\n",
    "    heap = []\n",
    "    # initialize points\n",
    "    for i in range(5):\n",
    "        if curr_char.get(W[i][0]) == None:\n",
    "            curr_char[W[i][0]] = 1\n",
    "            temp_pt = [i, 0, loc, 1]\n",
    "            temp_h = heuristic(temp_pt)\n",
    "            heapq.heappush(heap, [temp_h, temp_pt,W[i][0]])\n",
    "    # start search\n",
    "    while heap:\n",
    "        curr_char.clear() # clear the dictionary\n",
    "        curr_pt = heapq.heappop(heap)\n",
    "        print(curr_pt)\n",
    "        curr_loc = copy.deepcopy(curr_pt[1][2])\n",
    "        curr_w = W[curr_pt[1][0]][curr_pt[1][1]]\n",
    "        # update new location\n",
    "        for i in range(5):\n",
    "            if curr_loc[i] < len(W[i]):\n",
    "                if W[i][curr_loc[i]] == curr_w:\n",
    "                    curr_loc[i] += 1\n",
    "        if sum(curr_loc) == 25:\n",
    "            break\n",
    "        # push all new points\n",
    "        for i in range(5):\n",
    "            if curr_loc[i] < len(W[i]):\n",
    "                if curr_char.get(W[i][curr_loc[i]]) == None:\n",
    "                    curr_char[W[i][curr_loc[i]]] = 1\n",
    "                    temp_pt = [i, curr_loc[i], curr_loc, curr_pt[1][3] + 1]# add one to the original step\n",
    "                    temp_h = heuristic(temp_pt)\n",
    "                    heapq.heappush(heap, [temp_h, temp_pt,curr_pt[2] + W[i][curr_loc[i]]])\n",
    "        \n",
    "    return heap"
   ]
  },
  {
   "cell_type": "code",
   "execution_count": 94,
   "metadata": {
    "collapsed": false
   },
   "outputs": [
    {
     "name": "stdout",
     "output_type": "stream",
     "text": [
      "a:  3  b:  5\n",
      "a:  2  b:  5\n",
      "a:  4  b:  5\n",
      "a:  5  b:  6\n",
      "a:  0  b:  5\n",
      "a:  8  b:  5\n",
      "a:  1  b:  5\n",
      "a:  5  b:  7\n",
      "8008\n"
     ]
    }
   ],
   "source": [
    "import heapq\n",
    "import copy\n",
    "#     A    B    C     D    E\n",
    "D = [[0, 1064, 673, 1401, 277],\n",
    "     [1064, 0, 958, 1934, 337],\n",
    "     [673, 958, 0, 1001, 399],\n",
    "     [1401, 1934, 1001, 0, 387],\n",
    "     [277, 337, 399, 387, 0]]\n",
    "\n",
    "\n",
    "# The credits for this code go to UIUC_CS440_FALL18_HW01 by Zhenwei Wu, Yuji Chai, Zhoushi Zhu \n",
    "# uptree\n",
    "def addelement_dset(dset, num):\n",
    "    for i in range(num):\n",
    "        dset.append(-1)\n",
    "\n",
    "def find_dset(dset, elem):\n",
    "    if(dset[elem] < 0):\n",
    "        return elem\n",
    "    else:\n",
    "        find_result = find_dset(dset,dset[elem])\n",
    "        dset[elem] = find_result\n",
    "        return find_result\n",
    "\n",
    "def setunion_dset(dset, a, b):\n",
    "    root1 = find_dset(dset,a)\n",
    "    root2 = find_dset(dset,b)\n",
    "    \n",
    "    newsize = dset[root1] + dset[root2]\n",
    "    if(dset[root1] >= dset[root2]):\n",
    "        dset[root2] = root1\n",
    "        dset[root1] = newsize\n",
    "    else:\n",
    "        dset[root1] = root2\n",
    "        dset[root2] = newsize\n",
    "# generate distance = [1401, 'D2', 'A4']       \n",
    "def hForAll(ls):\n",
    "    distance_list = []\n",
    "    for i in range(len(ls)):\n",
    "        for j in range(i+1, len(ls)):\n",
    "            if ls[i][0] != ls[j][0]:\n",
    "                temp_distance = D[ord(ls[i][0])-65][ord(ls[j][0])-65]\n",
    "                distance_list.append([temp_distance, [ls[i][0], str(ls[i][1])],[ls[j][0], str(ls[j][1])]])\n",
    "    return distance_list\n",
    "\n",
    "# Krusal\n",
    "def mst(ls):\n",
    "    dset = []\n",
    "    Edge = hForAll(ls)\n",
    "    E_heap = []\n",
    "    distance_dic = {}\n",
    "    addelement_dset(dset, len(ls))\n",
    "    ct = 0\n",
    "    for elm in Edge:\n",
    "        heapq.heappush(E_heap, elm)\n",
    "        if distance_dic.get(elm[1][0] + elm[1][1]) == None:\n",
    "            distance_dic[elm[1][0] + elm[1][1]] = ct\n",
    "            ct += 1\n",
    "        if distance_dic.get(elm[2][0] + elm[2][1]) == None:\n",
    "            distance_dic[elm[2][0] + elm[2][1]] = ct\n",
    "            ct += 1\n",
    "    edge_count = 0\n",
    "    total_dist = 0\n",
    "\n",
    "    while E_heap:\n",
    "        if edge_count == len(ls):\n",
    "            break\n",
    "        it = heapq.heappop(E_heap)\n",
    "        A = distance_dic[it[1][0] + it[1][1]]\n",
    "        B = distance_dic[it[2][0] + it[2][1]]\n",
    "        for it in Edge:\n",
    "            if find_dset(dset,A) != find_dset(dset,B):\n",
    "                # print(\"a: \",A,\" b: \",B)\n",
    "                total_dist += it[0]\n",
    "                setunion_dset(dset,A, B)\n",
    "    return total_dist\n",
    "##########################################################################\n",
    "       \n",
    "    \n",
    "sample = [0, 2, [2, 2, 2, 2, 2], 4]\n",
    "\n",
    "def h_distance(pt):\n",
    "    char_dic = {}\n",
    "    w_ls = []\n",
    "    for i in range(5):\n",
    "        curr = pt[2][i]\n",
    "        while curr != len(W[i]):\n",
    "            if char_dic.get(W[i][curr] + str(curr)) == None:\n",
    "                char_dic[W[i][curr] + str(curr)] = 1\n",
    "                w_ls.append([W[i][curr],curr])\n",
    "            curr += 1 \n",
    "    return mst(w_ls)\n",
    "\n",
    "print(h_distance(sample))\n",
    "    "
   ]
  },
  {
   "cell_type": "code",
   "execution_count": 83,
   "metadata": {
    "collapsed": false
   },
   "outputs": [
    {
     "name": "stdout",
     "output_type": "stream",
     "text": [
      "['D2', 'C3']\n"
     ]
    }
   ],
   "source": [
    "#test = [[1001, 'D2', 'C3'], [1401, 'D2', 'A4'], [1401, 'D2', 'A2'], [0, 'D2', 'D4'], [1934, 'D2', 'B2'], [387, 'D2', 'E4'], [1934, 'D2', 'B3'], [1001, 'D2', 'C2'], [673, 'C3', 'A4'], [673, 'C3', 'A2'], [1001, 'C3', 'D4'], [958, 'C3', 'B2'], [399, 'C3', 'E4'], [958, 'C3', 'B3'], [0, 'C3', 'C2'], [0, 'A4', 'A2'], [1401, 'A4', 'D4'], [1064, 'A4', 'B2'], [277, 'A4', 'E4'], [1064, 'A4', 'B3'], [673, 'A4', 'C2'], [1401, 'A2', 'D4'], [1064, 'A2', 'B2'], [277, 'A2', 'E4'], [1064, 'A2', 'B3'], [673, 'A2', 'C2'], [1934, 'D4', 'B2'], [387, 'D4', 'E4'], [1934, 'D4', 'B3'], [1001, 'D4', 'C2'], [337, 'B2', 'E4'], [0, 'B2', 'B3'], [958, 'B2', 'C2'], [337, 'E4', 'B3'], [399, 'E4', 'C2'], [958, 'B3', 'C2']]\n",
    "h = []\n",
    "heapq.heappush(h, [1001, 'D2', 'C3'])\n",
    "heapq.heappush(h, [0, 'D2', 'D4'])\n",
    "\n",
    "print(h[1][1:])"
   ]
  },
  {
   "cell_type": "code",
   "execution_count": 81,
   "metadata": {
    "collapsed": false
   },
   "outputs": [
    {
     "name": "stdout",
     "output_type": "stream",
     "text": [
      "True\n"
     ]
    }
   ],
   "source": [
    "curr_char = {}\n",
    "print(curr_char.get('A') == None)"
   ]
  },
  {
   "cell_type": "code",
   "execution_count": 73,
   "metadata": {
    "collapsed": false
   },
   "outputs": [
    {
     "data": {
      "text/plain": [
       "0"
      ]
     },
     "execution_count": 73,
     "metadata": {},
     "output_type": "execute_result"
    }
   ],
   "source": [
    "char_dic = {}\n",
    "char_dic[1] = len(char_dic)\n",
    "char_dic[1]"
   ]
  },
  {
   "cell_type": "code",
   "execution_count": 23,
   "metadata": {
    "collapsed": false
   },
   "outputs": [
    {
     "data": {
      "text/plain": [
       "1"
      ]
     },
     "execution_count": 23,
     "metadata": {},
     "output_type": "execute_result"
    }
   ],
   "source": [
    "char_dic[\"A1\"]"
   ]
  },
  {
   "cell_type": "code",
   "execution_count": 52,
   "metadata": {
    "collapsed": false
   },
   "outputs": [
    {
     "name": "stdout",
     "output_type": "stream",
     "text": [
      "65\n",
      "66\n"
     ]
    }
   ],
   "source": []
  },
  {
   "cell_type": "code",
   "execution_count": 29,
   "metadata": {
    "collapsed": false
   },
   "outputs": [
    {
     "data": {
      "text/plain": [
       "2"
      ]
     },
     "execution_count": 29,
     "metadata": {},
     "output_type": "execute_result"
    }
   ],
   "source": [
    "h[2][4]"
   ]
  },
  {
   "cell_type": "code",
   "execution_count": null,
   "metadata": {
    "collapsed": true
   },
   "outputs": [],
   "source": []
  }
 ],
 "metadata": {
  "anaconda-cloud": {},
  "kernelspec": {
   "display_name": "Python [conda env:anaconda]",
   "language": "python",
   "name": "conda-env-anaconda-py"
  },
  "language_info": {
   "codemirror_mode": {
    "name": "ipython",
    "version": 3
   },
   "file_extension": ".py",
   "mimetype": "text/x-python",
   "name": "python",
   "nbconvert_exporter": "python",
   "pygments_lexer": "ipython3",
   "version": "3.5.2"
  }
 },
 "nbformat": 4,
 "nbformat_minor": 1
}
