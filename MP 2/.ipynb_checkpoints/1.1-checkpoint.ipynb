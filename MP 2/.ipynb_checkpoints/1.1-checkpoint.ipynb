{
 "cells": [
  {
   "cell_type": "code",
   "execution_count": null,
   "metadata": {
    "collapsed": true
   },
   "outputs": [],
   "source": [
    "The goal of this assignment is to implement A* search that will find two different factory sequences:\n",
    "\n",
    "    1. find the factory sequence with the smallest number of stops (the smallest number of factories visited).\n",
    "    2. find the factory sequence with the smallest number of miles traveled.\n",
    "\n",
    "Solve this problem using A* search. Your report should specify your state representation, actions, and your heuristic. \n",
    "The heuristic need not be very smart, but it needs to be non-zero, and it needs to be admissible and consistent."
   ]
  },
  {
   "cell_type": "code",
   "execution_count": 2,
   "metadata": {
    "collapsed": false
   },
   "outputs": [
    {
     "name": "stdout",
     "output_type": "stream",
     "text": [
      "10\n"
     ]
    }
   ],
   "source": [
    "# W0, W1, W2, W3, W4\n",
    "W =[ ['A', 'E', 'D', 'C', 'A'],\n",
    "     ['B', 'E', 'A', 'C', 'D'],\n",
    "     ['B', 'A', 'B', 'C', 'E'],\n",
    "     ['D', 'A', 'D', 'B', 'D'],\n",
    "     ['B', 'E', 'C', 'B', 'D'] ]\n",
    "\n",
    "# pt_sample = [W#, # widget, (pt1, pt2, pt3, pt4, pt5), steps]\n",
    "pt_sample = [0, 2, [2, 2, 2, 2, 2], 4]\n",
    "# heuristic for smallest stops\n",
    "def heuristic(pt):\n",
    "    distance = [0, 0, 0, 0, 0]\n",
    "    for i in range(5):\n",
    "        curr = pt[2][i]\n",
    "        temp = [0, 0, 0, 0, 0]\n",
    "        if i == pt[0]:\n",
    "            curr += 1 \n",
    "        while curr != len(W[i]):\n",
    "            if(W[i][curr] == 'A'):\n",
    "                temp[0] += 1\n",
    "            elif(W[i][curr] == 'B'):\n",
    "                temp[1] += 1\n",
    "            elif(W[i][curr] == 'C'):\n",
    "                temp[2] += 1\n",
    "            elif(W[i][curr] == 'D'):\n",
    "                temp[3] += 1\n",
    "            elif(W[i][curr] == 'E'):\n",
    "                temp[4] += 1\n",
    "            curr += 1 \n",
    "        for a in range(len(temp)):\n",
    "            if(distance[a] < temp[a]):\n",
    "                distance[a] = temp[a]\n",
    "    return sum(distance) + pt[-1]\n",
    "print(heuristic(pt_sample))"
   ]
  },
  {
   "cell_type": "code",
   "execution_count": 8,
   "metadata": {
    "collapsed": false
   },
   "outputs": [],
   "source": [
    "# s = [0,[-1, -1, (0, 0, 0, 0, 0), step]]\n",
    "import heapq\n",
    "import copy\n",
    "\n",
    "def A_star(W):\n",
    "    curr_char = {}\n",
    "    loc = [0, 0, 0, 0, 0]\n",
    "    heap = []\n",
    "    ct = 0\n",
    "    # initialize points\n",
    "    for i in range(5):\n",
    "        if curr_char.get(W[i][0]) == None:\n",
    "            curr_char[W[i][0]] = 1\n",
    "            temp_pt = [i, 0, loc, 1]\n",
    "            temp_h = heuristic(temp_pt)\n",
    "            heapq.heappush(heap, [temp_h, temp_pt,W[i][0]])\n",
    "    # start search\n",
    "    while heap:\n",
    "        curr_char.clear() # clear the dictionary\n",
    "        curr_pt = heapq.heappop(heap)\n",
    "        ct += 1\n",
    "        curr_loc = copy.deepcopy(curr_pt[1][2])\n",
    "        curr_w = W[curr_pt[1][0]][curr_pt[1][1]]\n",
    "        # update new location\n",
    "        for i in range(5):\n",
    "            if curr_loc[i] < len(W[i]):\n",
    "                if W[i][curr_loc[i]] == curr_w:\n",
    "                    curr_loc[i] += 1\n",
    "        if sum(curr_loc) == 25:\n",
    "            print(\"Total explore:\", ct)\n",
    "            print(\"Final result:\", curr_pt)\n",
    "            break\n",
    "        # push all new points\n",
    "        for i in range(5):\n",
    "            if curr_loc[i] < len(W[i]):\n",
    "                if curr_char.get(W[i][curr_loc[i]]) == None:\n",
    "                    curr_char[W[i][curr_loc[i]]] = 1\n",
    "                    temp_pt = [i, curr_loc[i], curr_loc, curr_pt[1][3] + 1]# add one to the original step\n",
    "                    temp_h = heuristic(temp_pt)\n",
    "                    heapq.heappush(heap, [temp_h, temp_pt,curr_pt[2] + W[i][curr_loc[i]]])\n",
    "        "
   ]
  },
  {
   "cell_type": "code",
   "execution_count": 4,
   "metadata": {
    "collapsed": false
   },
   "outputs": [],
   "source": [
    "import heapq\n",
    "import copy\n",
    "#     A    B    C     D    E\n",
    "D = [[0, 1064, 673, 1401, 277],\n",
    "     [1064, 0, 958, 1934, 337],\n",
    "     [673, 958, 0, 1001, 399],\n",
    "     [1401, 1934, 1001, 0, 387],\n",
    "     [277, 337, 399, 387, 0]]\n",
    "\n",
    "\n",
    "# The credits for this code go to UIUC_CS440_FALL18_HW01 by Zhenwei Wu, Yuji Chai, Zhoushi Zhu \n",
    "# uptree\n",
    "def addelement_dset(dset, num):\n",
    "    for i in range(num):\n",
    "        dset.append(-1)\n",
    "\n",
    "def find_dset(dset, elem):\n",
    "    if(dset[elem] < 0):\n",
    "        return elem\n",
    "    else:\n",
    "        find_result = find_dset(dset,dset[elem])\n",
    "        dset[elem] = find_result\n",
    "        return find_result\n",
    "\n",
    "def setunion_dset(dset, a, b):\n",
    "    root1 = find_dset(dset,a)\n",
    "    root2 = find_dset(dset,b)\n",
    "    \n",
    "    newsize = dset[root1] + dset[root2]\n",
    "    if(dset[root1] >= dset[root2]):\n",
    "        dset[root2] = root1\n",
    "        dset[root1] = newsize\n",
    "    else:\n",
    "        dset[root1] = root2\n",
    "        dset[root2] = newsize\n",
    "# generate distance = [1401, 'D2', 'A4']       \n",
    "def hForAll(ls):\n",
    "    visit_dic = {}\n",
    "    distance_list = []\n",
    "    for i in range(len(ls)):\n",
    "        for j in range(i+1, len(ls)):\n",
    "            if ls[i][0] != ls[j][0]:\n",
    "                temp_distance = D[ord(ls[i][0])-65][ord(ls[j][0])-65]\n",
    "                distance_list.append([temp_distance, [ls[i][0], str(ls[i][1])],[ls[j][0], str(ls[j][1])]])\n",
    "    return distance_list\n",
    "\n",
    "# Krusal\n",
    "def mst(ls):\n",
    "    #print(\"ls:\",ls)\n",
    "    dset = []\n",
    "    Edge = hForAll(ls)\n",
    "    E_heap = []\n",
    "    distance_dic = {}\n",
    "    addelement_dset(dset, len(ls))\n",
    "    ct = 0 # give each widge a special number, for uptree\n",
    "    for elm in Edge:\n",
    "        heapq.heappush(E_heap, elm)\n",
    "        if distance_dic.get(elm[1][0] + elm[1][1]) == None:\n",
    "            distance_dic[elm[1][0] + elm[1][1]] = ct\n",
    "            ct += 1\n",
    "        if distance_dic.get(elm[2][0] + elm[2][1]) == None:\n",
    "            distance_dic[elm[2][0] + elm[2][1]] = ct\n",
    "            ct += 1\n",
    "    edge_count = 0\n",
    "    total_dist = 0\n",
    "    while E_heap:\n",
    "        if edge_count == len(ls) - 1:\n",
    "            break\n",
    "        it = heapq.heappop(E_heap)\n",
    "        A = distance_dic[it[1][0] + it[1][1]]\n",
    "        B = distance_dic[it[2][0] + it[2][1]]\n",
    "        #for i in Edge:\n",
    "        if find_dset(dset,A) != find_dset(dset,B):\n",
    "            #print(\"cur_edge:\", it, \" \", it[0])\n",
    "            edge_count += 1\n",
    "            total_dist += it[0]\n",
    "            setunion_dset(dset,A, B)\n",
    "        #print(\"total_dist:\", total_dist)\n",
    "    return total_dist\n",
    "##########################################################################    \n",
    "sample = [0, 2, [2, 3, 2, 2, 2], 2789]\n",
    "\n",
    "def h_distance(pt):\n",
    "    char_dic = {}\n",
    "    w_ls = []\n",
    "    for i in range(5):\n",
    "        curr = pt[2][i]\n",
    "        while curr != len(W[i]):\n",
    "            if char_dic.get(W[i][curr] + str(curr)) == None:\n",
    "                char_dic[W[i][curr] + str(curr)] = 1\n",
    "                w_ls.append([W[i][curr],curr])\n",
    "            curr += 1 \n",
    "    return mst(w_ls) + pt[-1]\n",
    "\n",
    "#print(h_distance(sample))\n",
    "    "
   ]
  },
  {
   "cell_type": "code",
   "execution_count": 78,
   "metadata": {
    "collapsed": false
   },
   "outputs": [
    {
     "name": "stdout",
     "output_type": "stream",
     "text": [
      "5312\n"
     ]
    }
   ],
   "source": [
    "print(h_distance(sample))"
   ]
  },
  {
   "cell_type": "code",
   "execution_count": 5,
   "metadata": {
    "collapsed": false
   },
   "outputs": [],
   "source": [
    "# pt_sample = [W#, # widget, (pt1, pt2, pt3, pt4, pt5), steps]\n",
    "# s = [0,[-1, -1, [0, 0, 0, 0, 0], step]]\n",
    "import heapq\n",
    "import copy\n",
    "\n",
    "def A_star_D(W):\n",
    "    curr_char = {}\n",
    "    loc = [0, 0, 0, 0, 0]\n",
    "    heap = []\n",
    "    ct = 0\n",
    "    # initialize points\n",
    "    for i in range(5):\n",
    "        if curr_char.get(W[i][0]) == None:\n",
    "            curr_char[W[i][0]] = 1\n",
    "            temp_pt = [i, 0, loc, 0]\n",
    "            temp_h = h_distance(temp_pt)\n",
    "            heapq.heappush(heap, [temp_h, temp_pt,W[i][0]])\n",
    "    # start search\n",
    "    while heap:\n",
    "        curr_char.clear() # clear the dictionary\n",
    "        curr_pt = heapq.heappop(heap)\n",
    "        ct += 1\n",
    "        curr_loc = copy.deepcopy(curr_pt[1][2])\n",
    "        curr_w = W[curr_pt[1][0]][curr_pt[1][1]]\n",
    "        # update new location\n",
    "        for i in range(5):\n",
    "            if curr_loc[i] < len(W[i]):\n",
    "                if W[i][curr_loc[i]] == curr_w:\n",
    "                    curr_loc[i] += 1\n",
    "        if sum(curr_loc) == 25:\n",
    "            print(\"Total explore:\", ct)\n",
    "            print(\"Final: \",curr_pt)\n",
    "            break\n",
    "        # push all new points\n",
    "        for i in range(5):\n",
    "            possible_next = \"\"\n",
    "            if curr_loc[i] < len(W[i]):\n",
    "                if curr_char.get(W[i][curr_loc[i]]) == None:\n",
    "                    curr_char[W[i][curr_loc[i]]] = 1\n",
    "                    \n",
    "                    temp_pt = [i, curr_loc[i], curr_loc, curr_pt[1][3] + \n",
    "                               D[ord(curr_w)-65][ord(W[i][curr_loc[i]])-65]]# add new distance to the original step\n",
    "                    temp_h = h_distance(temp_pt)\n",
    "                    #possible_next += str(temp_pt) + \"-->\" + W[i][curr_loc[i]] + \"; \"\n",
    "                    heapq.heappush(heap, [temp_h, temp_pt,curr_pt[2] + W[i][curr_loc[i]]])\n",
    "            \n",
    "        "
   ]
  },
  {
   "cell_type": "code",
   "execution_count": 6,
   "metadata": {
    "collapsed": false,
    "scrolled": false
   },
   "outputs": [
    {
     "name": "stdout",
     "output_type": "stream",
     "text": [
      "Total explore: 1155\n",
      "Final:  [7043, [1, 4, [5, 4, 5, 4, 4], 7043], 'BEDAEDCBCAED']\n"
     ]
    }
   ],
   "source": [
    "A_star_D(W)"
   ]
  },
  {
   "cell_type": "code",
   "execution_count": 9,
   "metadata": {
    "collapsed": false
   },
   "outputs": [
    {
     "name": "stdout",
     "output_type": "stream",
     "text": [
      "Total explore: 960\n",
      "Final result: [11, [2, 4, [5, 5, 4, 5, 5], 11], 'BDAEDCBACDE']\n"
     ]
    }
   ],
   "source": [
    "A_star(W)"
   ]
  },
  {
   "cell_type": "code",
   "execution_count": null,
   "metadata": {
    "collapsed": true
   },
   "outputs": [],
   "source": []
  }
 ],
 "metadata": {
  "anaconda-cloud": {},
  "kernelspec": {
   "display_name": "Python [conda env:anaconda]",
   "language": "python",
   "name": "conda-env-anaconda-py"
  },
  "language_info": {
   "codemirror_mode": {
    "name": "ipython",
    "version": 3
   },
   "file_extension": ".py",
   "mimetype": "text/x-python",
   "name": "python",
   "nbconvert_exporter": "python",
   "pygments_lexer": "ipython3",
   "version": "3.5.2"
  }
 },
 "nbformat": 4,
 "nbformat_minor": 1
}
