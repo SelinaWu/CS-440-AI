{
 "cells": [
  {
   "cell_type": "code",
   "execution_count": null,
   "metadata": {
    "collapsed": true
   },
   "outputs": [],
   "source": [
    "The goal of this assignment is to implement A* search that will find two different factory sequences:\n",
    "\n",
    "    1. find the factory sequence with the smallest number of stops (the smallest number of factories visited).\n",
    "    2. find the factory sequence with the smallest number of miles traveled.\n",
    "\n",
    "Solve this problem using A* search. Your report should specify your state representation, actions, and your heuristic. \n",
    "The heuristic need not be very smart, but it needs to be non-zero, and it needs to be admissible and consistent."
   ]
  },
  {
   "cell_type": "code",
   "execution_count": 1,
   "metadata": {
    "collapsed": false
   },
   "outputs": [
    {
     "name": "stdout",
     "output_type": "stream",
     "text": [
      "10\n"
     ]
    }
   ],
   "source": [
    "# W0, W1, W2, W3, W4\n",
    "W =[ ['A', 'E', 'D', 'C', 'A'],\n",
    "     ['B', 'E', 'A', 'C', 'D'],\n",
    "     ['B', 'A', 'B', 'C', 'E'],\n",
    "     ['D', 'A', 'D', 'B', 'D'],\n",
    "     ['B', 'E', 'C', 'B', 'D'] ]\n",
    "\n",
    "# pt_sample = [W#, # widget, (pt1, pt2, pt3, pt4, pt5), steps]\n",
    "pt_sample = [0, 2, [2, 2, 2, 2, 2], 4]\n",
    "# heuristic for smallest stops\n",
    "def heuristic(pt):\n",
    "    distance = [0, 0, 0, 0, 0]\n",
    "    for i in range(5):\n",
    "        curr = pt[2][i]\n",
    "        temp = [0, 0, 0, 0, 0]\n",
    "        if i == pt[0]:\n",
    "            curr += 1 \n",
    "        while curr != len(W[i]):\n",
    "            if(W[i][curr] == 'A'):\n",
    "                temp[0] += 1\n",
    "            elif(W[i][curr] == 'B'):\n",
    "                temp[1] += 1\n",
    "            elif(W[i][curr] == 'C'):\n",
    "                temp[2] += 1\n",
    "            elif(W[i][curr] == 'D'):\n",
    "                temp[3] += 1\n",
    "            elif(W[i][curr] == 'E'):\n",
    "                temp[4] += 1\n",
    "            curr += 1 \n",
    "        for a in range(len(temp)):\n",
    "            if(distance[a] < temp[a]):\n",
    "                distance[a] = temp[a]\n",
    "    return sum(distance) + pt[-1]\n",
    "print(heuristic(pt_sample))"
   ]
  },
  {
   "cell_type": "code",
   "execution_count": 2,
   "metadata": {
    "collapsed": false
   },
   "outputs": [],
   "source": [
    "# s = [0,[-1, -1, (0, 0, 0, 0, 0), step]]\n",
    "import heapq\n",
    "import copy\n",
    "\n",
    "def A_star(W):\n",
    "    curr_char = {}\n",
    "    loc = [0, 0, 0, 0, 0]\n",
    "    heap = []\n",
    "    ct = 0\n",
    "    # initialize points\n",
    "    for i in range(5):\n",
    "        if curr_char.get(W[i][0]) == None:\n",
    "            curr_char[W[i][0]] = 1\n",
    "            temp_pt = [i, 0, loc, 1]\n",
    "            temp_h = heuristic(temp_pt)\n",
    "            heapq.heappush(heap, [temp_h, temp_pt,W[i][0]])\n",
    "    # start search\n",
    "    while heap:\n",
    "        curr_char.clear() # clear the dictionary\n",
    "        curr_pt = heapq.heappop(heap)\n",
    "        ct += 1\n",
    "        curr_loc = copy.deepcopy(curr_pt[1][2])\n",
    "        curr_w = W[curr_pt[1][0]][curr_pt[1][1]]\n",
    "        # update new location\n",
    "        for i in range(5):\n",
    "            if curr_loc[i] < len(W[i]):\n",
    "                if W[i][curr_loc[i]] == curr_w:\n",
    "                    curr_loc[i] += 1\n",
    "        if sum(curr_loc) == 25:\n",
    "            print(\"Total explore:\", ct)\n",
    "            print(\"Final result:\", curr_pt)\n",
    "            break\n",
    "        # push all new points\n",
    "        for i in range(5):\n",
    "            if curr_loc[i] < len(W[i]):\n",
    "                if curr_char.get(W[i][curr_loc[i]]) == None:\n",
    "                    curr_char[W[i][curr_loc[i]]] = 1\n",
    "                    temp_pt = [i, curr_loc[i], curr_loc, curr_pt[1][3] + 1]# add one to the original step\n",
    "                    temp_h = heuristic(temp_pt)\n",
    "                    heapq.heappush(heap, [temp_h, temp_pt,curr_pt[2] + W[i][curr_loc[i]]])\n",
    "        "
   ]
  },
  {
   "cell_type": "code",
   "execution_count": 3,
   "metadata": {
    "collapsed": false
   },
   "outputs": [
    {
     "name": "stdout",
     "output_type": "stream",
     "text": [
      "6757\n"
     ]
    }
   ],
   "source": [
    "import heapq\n",
    "import copy\n",
    "#     A    B    C     D    E\n",
    "D = [[0, 1064, 673, 1401, 277],\n",
    "     [1064, 0, 958, 1934, 337],\n",
    "     [673, 958, 0, 1001, 399],\n",
    "     [1401, 1934, 1001, 0, 387],\n",
    "     [277, 337, 399, 387, 0]]\n",
    "\n",
    "# Use the minimum distance in a node to represent the true distance\n",
    "def heuristic_D(ls):\n",
    "    total_dist = 0\n",
    "    for elm in ls:\n",
    "        num = ord(elm[0])-65\n",
    "        total_dist += min(D[num][0:num] + D[num][num+1:])\n",
    "    return total_dist\n",
    "##########################################################################    \n",
    "# [5357, [1, 3, [2, 3, 2, 2, 2], 3957], 'DEBEAEB']\n",
    "sample = [1, 3, [2, 3, 2, 2, 2], 3957]\n",
    "\n",
    "def h_distance(pt):\n",
    "    char_dic = {}\n",
    "    w_ls = []\n",
    "    for i in range(5):\n",
    "        curr = pt[2][i]\n",
    "        while curr != len(W[i]):\n",
    "            if char_dic.get(W[i][curr] + str(curr)) == None:\n",
    "                char_dic[W[i][curr] + str(curr)] = 1\n",
    "                w_ls.append([W[i][curr],curr])\n",
    "            curr += 1 \n",
    "    return heuristic_D(w_ls) + pt[-1]\n",
    "\n",
    "print(h_distance(sample))\n",
    "    "
   ]
  },
  {
   "cell_type": "code",
   "execution_count": 4,
   "metadata": {
    "collapsed": false
   },
   "outputs": [],
   "source": [
    "# pt_sample = [W#, # widget, (pt1, pt2, pt3, pt4, pt5), steps]\n",
    "# s = [0,[-1, -1, [0, 0, 0, 0, 0], step]]\n",
    "import heapq\n",
    "import copy\n",
    "\n",
    "def A_star_D(W):\n",
    "    curr_char = {}\n",
    "    loc = [0, 0, 0, 0, 0]\n",
    "    heap = []\n",
    "    ct = 0\n",
    "    string = 'ABCDE'\n",
    "    # initialize points\n",
    "    for i in range(5):\n",
    "        if curr_char.get(W[i][0]) == None:\n",
    "            curr_char[W[i][0]] = 1\n",
    "            temp_pt = [i, 0, loc, 0]\n",
    "            temp_h = h_distance(temp_pt)\n",
    "            heapq.heappush(heap, [temp_h, temp_pt,W[i][0]])\n",
    "    step = 0     \n",
    "    # start search\n",
    "    while heap:\n",
    "        curr_char.clear() # clear the dictionary\n",
    "        curr_pt = heapq.heappop(heap)\n",
    "        ct += 1\n",
    "        curr_loc = copy.deepcopy(curr_pt[1][2])\n",
    "        curr_w = curr_pt[-1][-1]\n",
    "        # update new location\n",
    "        for i in range(5):\n",
    "            if curr_loc[i] < len(W[i]):\n",
    "                if W[i][curr_loc[i]] == curr_w:\n",
    "                    curr_loc[i] += 1\n",
    "        if sum(curr_loc) == 25:\n",
    "            print(\"Total explore:\", ct)\n",
    "            print(\"Final: \",curr_pt)\n",
    "            break\n",
    "        # push all new points\n",
    "        possible_next = \"\"\n",
    "        for i in range(5):\n",
    "            if curr_loc[i] < len(W[i]):\n",
    "                if string[i] != curr_w:\n",
    "                    if curr_char.get(string[i]) == None:\n",
    "                        curr_char[string[i]] = 1      \n",
    "                        temp_pt = [i, curr_loc[i], curr_loc, curr_pt[1][3] + \n",
    "                                   D[ord(curr_w)-65][ord(string[i])-65]]# add new distance to the original step\n",
    "                        temp_h = h_distance(temp_pt)\n",
    "                        possible_next += str(temp_h) + \" \" + string[i] + \"; \"\n",
    "                        heapq.heappush(heap, [temp_h, temp_pt,curr_pt[2] + string[i]])\n",
    "             "
   ]
  },
  {
   "cell_type": "code",
   "execution_count": 116,
   "metadata": {
    "collapsed": false
   },
   "outputs": [
    {
     "name": "stdout",
     "output_type": "stream",
     "text": [
      "Total explore: 2371\n",
      "Final:  [5860, [3, 4, [5, 4, 5, 4, 4], 5473], 'DEBEAEBEDECAEBED']\n"
     ]
    }
   ],
   "source": [
    "A_star_D(W)"
   ]
  },
  {
   "cell_type": "code",
   "execution_count": 9,
   "metadata": {
    "collapsed": false
   },
   "outputs": [
    {
     "name": "stdout",
     "output_type": "stream",
     "text": [
      "Total explore: 960\n",
      "Final result: [11, [2, 4, [5, 5, 4, 5, 5], 11], 'BDAEDCBACDE']\n"
     ]
    }
   ],
   "source": [
    "A_star(W)"
   ]
  },
  {
   "cell_type": "code",
   "execution_count": 5,
   "metadata": {
    "collapsed": false
   },
   "outputs": [
    {
     "name": "stdout",
     "output_type": "stream",
     "text": [
      "Total explore: 2371\n",
      "Final:  [5860, [3, 4, [5, 4, 5, 4, 4], 5473], 'DEBEAEBEDECAEBED']\n"
     ]
    }
   ],
   "source": [
    "A_star_D(W)"
   ]
  },
  {
   "cell_type": "code",
   "execution_count": null,
   "metadata": {
    "collapsed": true
   },
   "outputs": [],
   "source": []
  }
 ],
 "metadata": {
  "anaconda-cloud": {},
  "kernelspec": {
   "display_name": "Python [conda env:anaconda]",
   "language": "python",
   "name": "conda-env-anaconda-py"
  },
  "language_info": {
   "codemirror_mode": {
    "name": "ipython",
    "version": 3
   },
   "file_extension": ".py",
   "mimetype": "text/x-python",
   "name": "python",
   "nbconvert_exporter": "python",
   "pygments_lexer": "ipython3",
   "version": "3.5.2"
  }
 },
 "nbformat": 4,
 "nbformat_minor": 1
}
