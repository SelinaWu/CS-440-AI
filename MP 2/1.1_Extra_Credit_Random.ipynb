{
 "cells": [
  {
   "cell_type": "code",
   "execution_count": null,
   "metadata": {
    "collapsed": true
   },
   "outputs": [],
   "source": [
    "The goal of this assignment is to implement A* search that will find two different factory sequences:\n",
    "\n",
    "    1. find the factory sequence with the smallest number of stops (the smallest number of factories visited).\n",
    "    2. find the factory sequence with the smallest number of miles traveled.\n",
    "\n",
    "Solve this problem using A* search. Your report should specify your state representation, actions, and your heuristic. \n",
    "The heuristic need not be very smart, but it needs to be non-zero, and it needs to be admissible and consistent."
   ]
  },
  {
   "cell_type": "code",
   "execution_count": 164,
   "metadata": {
    "collapsed": false
   },
   "outputs": [],
   "source": [
    "# W0, W1, W2, W3, W4\n",
    "W =[ ['A', 'E', 'D', 'C', 'A'],\n",
    "     ['B', 'E', 'A', 'C', 'D'],\n",
    "     ['B', 'A', 'B', 'C', 'E'],\n",
    "     ['D', 'A', 'D', 'B', 'D'],\n",
    "     ['B', 'E', 'C', 'B', 'D'] ]\n",
    "\n",
    "W2 =[ ['A', 'E', 'D', 'C', 'A','B'],\n",
    "     ['B', 'E', 'A', 'C', 'D', 'C'],\n",
    "     ['B', 'A', 'B', 'C', 'E', 'D'],\n",
    "     ['D', 'A', 'D', 'B', 'D', 'A'],\n",
    "     ['B', 'E', 'C', 'B', 'D', 'C'] ]\n",
    "\n",
    "# pt_sample = [W#, # widget, (pt1, pt2, pt3, pt4, pt5), steps]\n",
    "pt_sample = [0, 2, [2, 2, 2, 2, 2], 4]\n",
    "# heuristic for smallest stops\n",
    "def heuristic(pt, N, W):\n",
    "    distance = [0, 0, 0, 0, 0]\n",
    "    for i in range(5): # go over 5 widgets with length N\n",
    "        curr = pt[2][i]\n",
    "        temp = [0, 0, 0, 0, 0]\n",
    "        if i == pt[0]:\n",
    "            curr += 1 \n",
    "        while curr != len(W[i]):\n",
    "            if(W[i][curr] == 'A'):\n",
    "                temp[0] += 1\n",
    "            elif(W[i][curr] == 'B'):\n",
    "                temp[1] += 1\n",
    "            elif(W[i][curr] == 'C'):\n",
    "                temp[2] += 1\n",
    "            elif(W[i][curr] == 'D'):\n",
    "                temp[3] += 1\n",
    "            elif(W[i][curr] == 'E'):\n",
    "                temp[4] += 1\n",
    "            curr += 1 \n",
    "        for a in range(len(temp)):\n",
    "            if(distance[a] < temp[a]):\n",
    "                distance[a] = temp[a]\n",
    "    return sum(distance) + pt[-1] # H(curr) + G(curr)"
   ]
  },
  {
   "cell_type": "code",
   "execution_count": 19,
   "metadata": {
    "collapsed": false
   },
   "outputs": [],
   "source": [
    "# s = [0,[-1, -1, (0, 0, 0, 0, 0), step]]\n",
    "import heapq\n",
    "import copy\n",
    "\n",
    "def A_star(N, W):\n",
    "    curr_char = {}\n",
    "    loc = [0, 0, 0, 0, 0]\n",
    "    heap = []\n",
    "    ct = 0\n",
    "    # initialize points\n",
    "    for i in range(5):\n",
    "        if curr_char.get(W[i][0]) == None:\n",
    "            curr_char[W[i][0]] = 1\n",
    "            temp_pt = [i, 0, loc, 1]\n",
    "            temp_h = heuristic(temp_pt, N, W)\n",
    "            heapq.heappush(heap, [temp_h, temp_pt,W[i][0]])\n",
    "    # start search\n",
    "    while heap:\n",
    "        curr_char.clear() # clear the dictionary\n",
    "        curr_pt = heapq.heappop(heap) \n",
    "        ct += 1\n",
    "        curr_loc = copy.deepcopy(curr_pt[1][2])\n",
    "        curr_w = W[curr_pt[1][0]][curr_pt[1][1]]\n",
    "        # update new location\n",
    "        for i in range(5):\n",
    "            if curr_loc[i] < len(W[i]):\n",
    "                if W[i][curr_loc[i]] == curr_w:\n",
    "                    curr_loc[i] += 1\n",
    "        if sum(curr_loc) == 5 * N:\n",
    "            print(\"explored node:\", ct)\n",
    "            print(\"final result:\", curr_pt)\n",
    "            break\n",
    "        # push all new points\n",
    "        for i in range(5):\n",
    "            if curr_loc[i] < len(W[i]):\n",
    "                if curr_char.get(W[i][curr_loc[i]]) == None:\n",
    "                    curr_char[W[i][curr_loc[i]]] = 1\n",
    "                    temp_pt = [i, curr_loc[i], curr_loc, curr_pt[1][3] + 1]# add one to the original step\n",
    "                    temp_h = heuristic(temp_pt, N, W)\n",
    "                    heapq.heappush(heap, [temp_h, temp_pt,curr_pt[2] + W[i][curr_loc[i]]])\n",
    "    return ct\n",
    "        "
   ]
  },
  {
   "cell_type": "code",
   "execution_count": 41,
   "metadata": {
    "collapsed": false
   },
   "outputs": [],
   "source": [
    "import heapq\n",
    "import copy\n",
    "#     A    B    C     D    E\n",
    "D = [[0, 1064, 673, 1401, 277],\n",
    "     [1064, 0, 958, 1934, 337],\n",
    "     [673, 958, 0, 1001, 399],\n",
    "     [1401, 1934, 1001, 0, 387],\n",
    "     [277, 337, 399, 387, 0]]\n",
    "\n",
    "def heuristic_D(ls):\n",
    "    total_dist = 0\n",
    "    for elm in ls:\n",
    "        num = ord(elm[0])-65\n",
    "        total_dist += min(D[num][0:num] + D[num][num+1:])\n",
    "    return total_dist\n",
    "##########################################################################    \n",
    "sample = [0, 2, [2, 3, 2, 2, 2], 2789]\n",
    "\n",
    "def h_distance(pt, W):\n",
    "    char_dic = {}\n",
    "    w_ls = []\n",
    "    for i in range(5):\n",
    "        curr = pt[2][i]\n",
    "        while curr != len(W[i]):\n",
    "            if char_dic.get(W[i][curr] + str(curr)) == None:\n",
    "                char_dic[W[i][curr] + str(curr)] = 1\n",
    "                w_ls.append([W[i][curr],curr])\n",
    "            curr += 1 \n",
    "    return heuristic_D(w_ls) + pt[-1]\n",
    "\n",
    "#print(h_distance(sample))\n",
    "    "
   ]
  },
  {
   "cell_type": "code",
   "execution_count": 42,
   "metadata": {
    "collapsed": false
   },
   "outputs": [],
   "source": [
    "# pt_sample = [W#, # widget, (pt1, pt2, pt3, pt4, pt5), steps]\n",
    "# s = [0,[-1, -1, [0, 0, 0, 0, 0], step]]\n",
    "import heapq\n",
    "import copy\n",
    "\n",
    "def A_star_D(N, W): # widget with length N; W list\n",
    "    curr_char = {}\n",
    "    loc = [0, 0, 0, 0, 0]\n",
    "    heap = []\n",
    "    ct = 0\n",
    "    string = 'ABCDE'\n",
    "    # initialize points\n",
    "    for i in range(5):\n",
    "        if curr_char.get(W[i][0]) == None:\n",
    "            curr_char[W[i][0]] = 1\n",
    "            temp_pt = [i, 0, loc, 0]\n",
    "            temp_h = h_distance(temp_pt, W)\n",
    "            heapq.heappush(heap, [temp_h, temp_pt,W[i][0]])\n",
    "    # start search\n",
    "    while heap:\n",
    "        curr_char.clear() # clear the dictionary\n",
    "        curr_pt = heapq.heappop(heap)\n",
    "        ct += 1\n",
    "        curr_loc = copy.deepcopy(curr_pt[1][2])\n",
    "        curr_w = curr_pt[-1][-1]\n",
    "        # update new location\n",
    "        for i in range(5):\n",
    "            if curr_loc[i] < len(W[i]):\n",
    "                if W[i][curr_loc[i]] == curr_w:\n",
    "                    curr_loc[i] += 1\n",
    "        if sum(curr_loc) == 5 * N:\n",
    "            print(\"Total explore:\", ct)\n",
    "            print(\"Final: \",curr_pt)\n",
    "            break\n",
    "        # push all new points\n",
    "        #possible_next = \"\"\n",
    "        #print(curr_pt)\n",
    "        for i in range(5):\n",
    "            if (curr_loc[i] < len(W[i])) & (string[i] != curr_w):\n",
    "                if curr_w != 'E':\n",
    "                    if D[ord(curr_w)-65][ord(string[i])-65] < 1000:\n",
    "                        temp_pt = [i, curr_loc[i], curr_loc, curr_pt[1][3] + \n",
    "                                           D[ord(curr_w)-65][ord(string[i])-65]]# add new distance to the original step\n",
    "                        temp_h = h_distance(temp_pt, W)\n",
    "                        #possible_next += str(temp_h) + \" \" + string[i] + \"; \"\n",
    "                        heapq.heappush(heap, [temp_h, temp_pt,curr_pt[2] + string[i]])\n",
    "                else:\n",
    "                    if curr_char.get(W[i][curr_loc[i]]) == None:\n",
    "                        curr_char[W[i][curr_loc[i]]] = 1\n",
    "                    \n",
    "                        temp_pt = [i, curr_loc[i], curr_loc, curr_pt[1][3] + \n",
    "                                   D[ord(curr_w)-65][ord(W[i][curr_loc[i]])-65]]# add new distance to the original step\n",
    "                        temp_h = h_distance(temp_pt, W)\n",
    "                        #possible_next += str(temp_pt) + \"-->\" + W[i][curr_loc[i]] + \"; \"\n",
    "                        heapq.heappush(heap, [temp_h, temp_pt,curr_pt[2] + W[i][curr_loc[i]]])\n",
    "        #print(possible_next)\n",
    "    return ct\n",
    "            \n",
    "        "
   ]
  },
  {
   "cell_type": "code",
   "execution_count": 162,
   "metadata": {
    "collapsed": true
   },
   "outputs": [],
   "source": [
    "from random import shuffle\n",
    "x = [[i] for i in range(10)]\n",
    "shuffle(x)\n",
    "\n",
    "def problem_generator(N):\n",
    "    new_widget = []\n",
    "    string = 'ABCDE'\n",
    "    for i in range(5):\n",
    "        last = 'L'\n",
    "        temp = []\n",
    "        for k in range(N):\n",
    "            temp_rand = [0,1,2,3,4] \n",
    "            shuffle(temp_rand) # get true random number\n",
    "            temp_char = string[temp_rand[0]]\n",
    "            while temp_char == last:\n",
    "                shuffle(temp_rand)\n",
    "                temp_char = string[temp_rand[0]]\n",
    "            temp.append(str(temp_char))\n",
    "            last = temp_char\n",
    "        new_widget.append(temp)\n",
    "    return new_widget"
   ]
  },
  {
   "cell_type": "code",
   "execution_count": 163,
   "metadata": {
    "collapsed": false
   },
   "outputs": [
    {
     "name": "stdout",
     "output_type": "stream",
     "text": [
      "['C', 'D', 'A']\n",
      "['D', 'C', 'D']\n",
      "['C', 'B', 'A']\n",
      "['C', 'A', 'C']\n",
      "['D', 'C', 'A']\n",
      "Total explore: 409\n",
      "Final:  [4524, [0, 2, [2, 3, 2, 3, 2], 4247], 'CAEBEDECEDEA']\n"
     ]
    },
    {
     "data": {
      "text/plain": [
       "409"
      ]
     },
     "execution_count": 163,
     "metadata": {},
     "output_type": "execute_result"
    }
   ],
   "source": [
    "W_test = problem_generator(3)\n",
    "for i in W_test:\n",
    "    print(i)\n",
    "A_star_D(3, W_test)"
   ]
  },
  {
   "cell_type": "code",
   "execution_count": 161,
   "metadata": {
    "collapsed": false
   },
   "outputs": [
    {
     "name": "stdout",
     "output_type": "stream",
     "text": [
      "['D', 'A', 'B', 'C']\n",
      "['C', 'B', 'D', 'B']\n",
      "['C', 'D', 'C', 'D']\n",
      "['B', 'A', 'B', 'C']\n",
      "['C', 'D', 'A', 'C']\n",
      "Total explore: 318\n",
      "Final:  [5442, [0, 3, [3, 4, 4, 3, 3], 5043], 'CEBEDECAEBEDEC']\n"
     ]
    },
    {
     "data": {
      "text/plain": [
       "318"
      ]
     },
     "execution_count": 161,
     "metadata": {},
     "output_type": "execute_result"
    }
   ],
   "source": [
    "W_test = problem_generator(4)\n",
    "for i in W_test:\n",
    "    print(i)\n",
    "A_star_D(4, W_test)"
   ]
  },
  {
   "cell_type": "code",
   "execution_count": 64,
   "metadata": {
    "collapsed": false
   },
   "outputs": [
    {
     "name": "stdout",
     "output_type": "stream",
     "text": [
      "['D', 'B', 'D', 'C', 'B']\n",
      "['E', 'B', 'A', 'D', 'A']\n",
      "['E', 'B', 'A', 'C', 'A']\n",
      "['A', 'C', 'B', 'A', 'D']\n",
      "['C', 'E', 'B', 'E', 'A']\n",
      "Total explore: 487\n",
      "Final:  [5986, [1, 4, [5, 4, 4, 5, 4], 5709], 'DEACBEAEDECEBEA']\n"
     ]
    },
    {
     "data": {
      "text/plain": [
       "487"
      ]
     },
     "execution_count": 64,
     "metadata": {},
     "output_type": "execute_result"
    }
   ],
   "source": [
    "W_test = problem_generator(5)\n",
    "for i in W_test:\n",
    "    print(i)\n",
    "A_star_D(5, W_test)"
   ]
  },
  {
   "cell_type": "code",
   "execution_count": 100,
   "metadata": {
    "collapsed": false
   },
   "outputs": [
    {
     "name": "stdout",
     "output_type": "stream",
     "text": [
      "['E', 'D', 'A', 'B', 'C', 'A']\n",
      "['A', 'E', 'C', 'A', 'C', 'E']\n",
      "['E', 'D', 'A', 'D', 'C', 'D']\n",
      "['E', 'C', 'A', 'D', 'A', 'B']\n",
      "['B', 'D', 'A', 'D', 'B', 'E']\n",
      "Total explore: 2832\n",
      "Final:  [7361, [2, 5, [6, 6, 5, 6, 6], 6974], 'BEAECAEDEAEDEBCAED']\n"
     ]
    },
    {
     "data": {
      "text/plain": [
       "2832"
      ]
     },
     "execution_count": 100,
     "metadata": {},
     "output_type": "execute_result"
    }
   ],
   "source": [
    "W_test = problem_generator(6)\n",
    "for i in W_test:\n",
    "    print(i)\n",
    "A_star_D(6, W_test)"
   ]
  },
  {
   "cell_type": "code",
   "execution_count": 99,
   "metadata": {
    "collapsed": false
   },
   "outputs": [
    {
     "name": "stdout",
     "output_type": "stream",
     "text": [
      "['C', 'B', 'C', 'B', 'A', 'B', 'E']\n",
      "['A', 'B', 'E', 'A', 'C', 'D', 'E']\n",
      "['D', 'E', 'B', 'E', 'C', 'A', 'C']\n",
      "['C', 'D', 'E', 'C', 'D', 'A', 'B']\n",
      "['B', 'C', 'A', 'B', 'A', 'C', 'A']\n",
      "Total explore: 14264\n",
      "Final:  [9012, [2, 6, [7, 7, 6, 7, 7], 8613], 'CEDEBCAEBEDEACEBEDEAC']\n"
     ]
    },
    {
     "data": {
      "text/plain": [
       "14264"
      ]
     },
     "execution_count": 99,
     "metadata": {},
     "output_type": "execute_result"
    }
   ],
   "source": [
    "W_test = problem_generator(7)\n",
    "for i in W_test:\n",
    "    print(i)\n",
    "A_star_D(7, W_test)"
   ]
  },
  {
   "cell_type": "code",
   "execution_count": 150,
   "metadata": {
    "collapsed": false
   },
   "outputs": [
    {
     "name": "stdout",
     "output_type": "stream",
     "text": [
      "['D', 'C', 'D', 'A', 'C', 'A', 'C', 'A']\n",
      "['C', 'A', 'C', 'B', 'A', 'B', 'D', 'B']\n",
      "['E', 'C', 'A', 'E', 'C', 'E', 'B', 'C']\n",
      "['B', 'C', 'B', 'D', 'C', 'A', 'E', 'C']\n",
      "['D', 'E', 'A', 'B', 'D', 'C', 'D', 'A']\n",
      "Total explore: 3340\n",
      "Final:  [9909, [0, 7, [7, 8, 8, 8, 7], 9632], 'DEBECAEBEDEACEBEAEBECEDEBEA']\n"
     ]
    },
    {
     "data": {
      "text/plain": [
       "3340"
      ]
     },
     "execution_count": 150,
     "metadata": {},
     "output_type": "execute_result"
    }
   ],
   "source": [
    "W_test = problem_generator(8)\n",
    "for i in W_test:\n",
    "    print(i)\n",
    "A_star_D(8, W_test)"
   ]
  },
  {
   "cell_type": "code",
   "execution_count": 33,
   "metadata": {
    "collapsed": false
   },
   "outputs": [
    {
     "name": "stdout",
     "output_type": "stream",
     "text": [
      "['A', 'B', 'E']\n",
      "['B', 'E', 'B']\n",
      "['C', 'D', 'A']\n",
      "['A', 'E', 'B']\n",
      "['A', 'B', 'D']\n",
      "explored node: 70\n",
      "final result: [7, [4, 2, [3, 3, 3, 3, 2], 7], 'CDABEBD']\n",
      "['D', 'C', 'B']\n",
      "['E', 'B', 'E']\n",
      "['E', 'C', 'E']\n",
      "['C', 'E', 'A']\n",
      "['D', 'E', 'A']\n",
      "explored node: 19\n",
      "final result: [7, [3, 2, [3, 3, 3, 2, 2], 6], 'DECBEA']\n",
      "['E', 'D', 'E']\n",
      "['A', 'B', 'C']\n",
      "['A', 'B', 'A']\n",
      "['D', 'A', 'D']\n",
      "['B', 'C', 'E']\n",
      "explored node: 125\n",
      "final result: [8, [0, 2, [2, 3, 3, 3, 3], 8], 'DABCEDAE']\n",
      "['C', 'A', 'C', 'B']\n",
      "['D', 'A', 'B', 'C']\n",
      "['A', 'C', 'E', 'D']\n",
      "['E', 'C', 'E', 'C']\n",
      "['D', 'A', 'C', 'A']\n",
      "explored node: 324\n",
      "final result: [10, [0, 3, [3, 4, 4, 4, 4], 10], 'DAECAEBCDB']\n",
      "['C', 'A', 'E', 'A']\n",
      "['B', 'C', 'D', 'C']\n",
      "['B', 'D', 'A', 'C']\n",
      "['B', 'A', 'C', 'E']\n",
      "['B', 'E', 'C', 'A']\n",
      "explored node: 55\n",
      "final result: [9, [0, 3, [3, 4, 4, 4, 3], 8], 'BCDACECA']\n",
      "['E', 'C', 'A', 'D']\n",
      "['E', 'B', 'E', 'B']\n",
      "['D', 'B', 'C', 'E']\n",
      "['C', 'D', 'A', 'E']\n",
      "['E', 'C', 'E', 'A']\n",
      "explored node: 601\n",
      "final result: [10, [0, 3, [3, 4, 4, 4, 4], 10], 'CDEBCEAEBD']\n",
      "['D', 'C', 'E', 'C', 'A']\n",
      "['B', 'A', 'C', 'A', 'D']\n",
      "['B', 'E', 'C', 'D', 'E']\n",
      "['D', 'C', 'D', 'C', 'D']\n",
      "['B', 'A', 'C', 'E', 'B']\n",
      "explored node: 322\n",
      "final result: [11, [2, 4, [5, 5, 4, 5, 5], 11], 'BADCDECADBE']\n",
      "['B', 'D', 'E', 'C', 'D']\n",
      "['B', 'D', 'B', 'E', 'B']\n",
      "['A', 'D', 'A', 'E', 'A']\n",
      "['A', 'C', 'B', 'E', 'C']\n",
      "['A', 'E', 'A', 'D', 'C']\n",
      "explored node: 1215\n",
      "final result: [12, [0, 4, [4, 5, 5, 5, 5], 12], 'ABCDABEADCBD']\n",
      "['B', 'D', 'E', 'D', 'E']\n",
      "['D', 'E', 'B', 'E', 'C']\n",
      "['E', 'B', 'C', 'E', 'C']\n",
      "['E', 'A', 'E', 'B', 'E']\n",
      "['B', 'E', 'D', 'E', 'A']\n",
      "explored node: 590\n",
      "final result: [11, [4, 4, [5, 5, 5, 5, 4], 11], 'BDEADEBCECA']\n",
      "['D', 'E', 'C', 'A', 'D', 'E']\n",
      "['D', 'C', 'A', 'B', 'A', 'B']\n",
      "['B', 'A', 'B', 'D', 'A', 'D']\n",
      "['C', 'E', 'A', 'B', 'E', 'A']\n",
      "['A', 'C', 'A', 'E', 'D', 'A']\n",
      "explored node: 3470\n",
      "final result: [13, [0, 5, [5, 6, 6, 6, 6], 13], 'DCABECABEDADE']\n",
      "['B', 'E', 'B', 'A', 'E', 'A']\n",
      "['C', 'A', 'E', 'C', 'E', 'B']\n",
      "['B', 'A', 'B', 'C', 'B', 'A']\n",
      "['A', 'E', 'D', 'E', 'B', 'D']\n",
      "['D', 'B', 'C', 'E', 'B', 'C']\n",
      "explored node: 292\n",
      "final result: [13, [3, 5, [6, 6, 6, 5, 6], 13], 'BCAEDBACEBACD']\n",
      "['C', 'B', 'C', 'E', 'D', 'C']\n",
      "['A', 'D', 'B', 'D', 'C', 'A']\n",
      "['E', 'D', 'B', 'A', 'E', 'B']\n",
      "['A', 'B', 'D', 'B', 'C', 'B']\n",
      "['E', 'C', 'D', 'A', 'C', 'A']\n",
      "explored node: 1069\n",
      "final result: [14, [1, 5, [6, 5, 6, 6, 5], 13], 'ABECDBCAEBDCA']\n",
      "['A', 'D', 'A', 'E', 'A', 'B', 'C']\n",
      "['B', 'E', 'C', 'D', 'B', 'C', 'A']\n",
      "['E', 'D', 'C', 'D', 'B', 'D', 'B']\n",
      "['C', 'B', 'D', 'C', 'E', 'A', 'E']\n",
      "['A', 'C', 'D', 'B', 'C', 'A', 'C']\n",
      "explored node: 2194\n",
      "final result: [15, [3, 6, [7, 7, 7, 6, 7], 15], 'ABEDCDBDCAEABCE']\n",
      "['C', 'B', 'D', 'E', 'C', 'B', 'E']\n",
      "['B', 'E', 'D', 'C', 'B', 'C', 'B']\n",
      "['A', 'C', 'A', 'D', 'A', 'E', 'A']\n",
      "['B', 'A', 'C', 'A', 'B', 'D', 'B']\n",
      "['C', 'A', 'D', 'A', 'C', 'A', 'D']\n",
      "explored node: 1956\n",
      "final result: [15, [0, 6, [6, 7, 7, 7, 7], 15], 'BAEDCABDAECABDE']\n",
      "['A', 'D', 'A', 'E', 'A', 'D', 'C']\n",
      "['E', 'D', 'A', 'C', 'A', 'C', 'D']\n",
      "['E', 'B', 'A', 'B', 'E', 'A', 'E']\n",
      "['C', 'B', 'A', 'B', 'D', 'E', 'A']\n",
      "['C', 'A', 'E', 'D', 'E', 'B', 'E']\n",
      "explored node: 35576\n",
      "final result: [16, [0, 6, [6, 7, 7, 7, 7], 16], 'CAEBDACEBDEACDEC']\n",
      "['C', 'E', 'B', 'E', 'C', 'A', 'B', 'E']\n",
      "['C', 'E', 'B', 'D', 'C', 'D', 'A', 'E']\n",
      "['B', 'C', 'B', 'E', 'A', 'C', 'E', 'A']\n",
      "['C', 'E', 'C', 'A', 'B', 'D', 'C', 'E']\n",
      "['E', 'B', 'E', 'C', 'A', 'D', 'E', 'C']\n",
      "explored node: 1547\n",
      "final result: [14, [2, 7, [8, 8, 7, 8, 8], 14], 'CEBDECABDEACEA']\n",
      "['E', 'A', 'B', 'D', 'C', 'D', 'C', 'E']\n",
      "['D', 'B', 'E', 'D', 'E', 'D', 'E', 'A']\n",
      "['D', 'A', 'C', 'A', 'B', 'A', 'E', 'C']\n",
      "['D', 'E', 'D', 'B', 'C', 'A', 'D', 'B']\n",
      "['C', 'E', 'C', 'D', 'B', 'D', 'B', 'C']\n",
      "explored node: 463622\n",
      "final result: [18, [1, 7, [8, 7, 8, 8, 8], 18], 'CDABECABDBCAEDBCEA']\n",
      "['A', 'D', 'B', 'C', 'B', 'C', 'A', 'B']\n",
      "['B', 'E', 'C', 'B', 'E', 'D', 'A', 'D']\n",
      "['D', 'C', 'D', 'E', 'A', 'B', 'E', 'C']\n",
      "['C', 'A', 'B', 'D', 'C', 'D', 'B', 'E']\n",
      "['B', 'C', 'D', 'C', 'A', 'D', 'E', 'A']\n",
      "explored node: 18407\n",
      "final result: [17, [1, 7, [8, 7, 8, 8, 8], 17], 'ADBCDECABDECDABED']\n"
     ]
    }
   ],
   "source": [
    "# write result to 'output.txt'\n",
    "file = open('Output.txt','w') \n",
    "\n",
    "for i in range(3,9):\n",
    "    string = \"N = \" + str(i)\n",
    "    file.write(string)\n",
    "    for k in range(3):\n",
    "        W_test = problem_generator(i)\n",
    "        for j in W_test:\n",
    "            print(j)\n",
    "        temp = str(A_star(i, W_test)) + \"  \"\n",
    "        file.write(temp)\n",
    "file.close()"
   ]
  },
  {
   "cell_type": "code",
   "execution_count": null,
   "metadata": {
    "collapsed": true
   },
   "outputs": [],
   "source": [
    "# write result to 'output.txt'\n",
    "file = open('Output.txt','w') \n",
    "\n",
    "for i in range(3,8):\n",
    "    string = \"N = \" + str(i)\n",
    "    file.write(string)\n",
    "    for k in range(3):\n",
    "        W_test = problem_generator(i)\n",
    "        for j in W_test:\n",
    "            print(j)\n",
    "        temp = str(A_star_D(i, W_test)) + \"  \"\n",
    "        file.write(temp)\n",
    "file.close()"
   ]
  }
 ],
 "metadata": {
  "anaconda-cloud": {},
  "kernelspec": {
   "display_name": "Python [conda env:anaconda]",
   "language": "python",
   "name": "conda-env-anaconda-py"
  },
  "language_info": {
   "codemirror_mode": {
    "name": "ipython",
    "version": 3
   },
   "file_extension": ".py",
   "mimetype": "text/x-python",
   "name": "python",
   "nbconvert_exporter": "python",
   "pygments_lexer": "ipython3",
   "version": "3.5.2"
  }
 },
 "nbformat": 4,
 "nbformat_minor": 1
}
