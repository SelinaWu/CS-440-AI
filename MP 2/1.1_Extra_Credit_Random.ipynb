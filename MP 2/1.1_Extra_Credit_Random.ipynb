{
 "cells": [
  {
   "cell_type": "code",
   "execution_count": null,
   "metadata": {
    "collapsed": true
   },
   "outputs": [],
   "source": [
    "The goal of this assignment is to implement A* search that will find two different factory sequences:\n",
    "\n",
    "    1. find the factory sequence with the smallest number of stops (the smallest number of factories visited).\n",
    "    2. find the factory sequence with the smallest number of miles traveled.\n",
    "\n",
    "Solve this problem using A* search. Your report should specify your state representation, actions, and your heuristic. \n",
    "The heuristic need not be very smart, but it needs to be non-zero, and it needs to be admissible and consistent."
   ]
  },
  {
   "cell_type": "code",
   "execution_count": 95,
   "metadata": {
    "collapsed": false
   },
   "outputs": [
    {
     "name": "stdout",
     "output_type": "stream",
     "text": [
      "11\n"
     ]
    }
   ],
   "source": [
    "# W0, W1, W2, W3, W4\n",
    "W =[ ['A', 'E', 'D', 'C', 'A'],\n",
    "     ['B', 'E', 'A', 'C', 'D'],\n",
    "     ['B', 'A', 'B', 'C', 'E'],\n",
    "     ['D', 'A', 'D', 'B', 'D'],\n",
    "     ['B', 'E', 'C', 'B', 'D'] ]\n",
    "\n",
    "W2 =[ ['A', 'E', 'D', 'C', 'A','B'],\n",
    "     ['B', 'E', 'A', 'C', 'D', 'C'],\n",
    "     ['B', 'A', 'B', 'C', 'E', 'D'],\n",
    "     ['D', 'A', 'D', 'B', 'D', 'A'],\n",
    "     ['B', 'E', 'C', 'B', 'D', 'C'] ]\n",
    "\n",
    "# pt_sample = [W#, # widget, (pt1, pt2, pt3, pt4, pt5), steps]\n",
    "pt_sample = [0, 2, [2, 2, 2, 2, 2], 4]\n",
    "# heuristic for smallest stops\n",
    "def heuristic(pt, N, W):\n",
    "    distance = [0, 0, 0, 0, 0]\n",
    "    for i in range(5): # go over 5 widgets with length N\n",
    "        curr = pt[2][i]\n",
    "        temp = [0, 0, 0, 0, 0]\n",
    "        if i == pt[0]:\n",
    "            curr += 1 \n",
    "        while curr != len(W[i]):\n",
    "            if(W[i][curr] == 'A'):\n",
    "                temp[0] += 1\n",
    "            elif(W[i][curr] == 'B'):\n",
    "                temp[1] += 1\n",
    "            elif(W[i][curr] == 'C'):\n",
    "                temp[2] += 1\n",
    "            elif(W[i][curr] == 'D'):\n",
    "                temp[3] += 1\n",
    "            elif(W[i][curr] == 'E'):\n",
    "                temp[4] += 1\n",
    "            curr += 1 \n",
    "        for a in range(len(temp)):\n",
    "            if(distance[a] < temp[a]):\n",
    "                distance[a] = temp[a]\n",
    "    return sum(distance) + pt[-1] # H(curr) + G(curr)\n",
    "print(heuristic(pt_sample, 6, W2))"
   ]
  },
  {
   "cell_type": "code",
   "execution_count": 96,
   "metadata": {
    "collapsed": false
   },
   "outputs": [],
   "source": [
    "# s = [0,[-1, -1, (0, 0, 0, 0, 0), step]]\n",
    "import heapq\n",
    "import copy\n",
    "\n",
    "def A_star(N, W):\n",
    "    curr_char = {}\n",
    "    loc = [0, 0, 0, 0, 0]\n",
    "    heap = []\n",
    "    # initialize points\n",
    "    for i in range(5):\n",
    "        if curr_char.get(W[i][0]) == None:\n",
    "            curr_char[W[i][0]] = 1\n",
    "            temp_pt = [i, 0, loc, 1]\n",
    "            temp_h = heuristic(temp_pt, N, W)\n",
    "            heapq.heappush(heap, [temp_h, temp_pt,W[i][0]])\n",
    "    # start search\n",
    "    while heap:\n",
    "        curr_char.clear() # clear the dictionary\n",
    "        curr_pt = heapq.heappop(heap) \n",
    "        curr_loc = copy.deepcopy(curr_pt[1][2])\n",
    "        curr_w = W[curr_pt[1][0]][curr_pt[1][1]]\n",
    "        # update new location\n",
    "        for i in range(5):\n",
    "            if curr_loc[i] < len(W[i]):\n",
    "                if W[i][curr_loc[i]] == curr_w:\n",
    "                    curr_loc[i] += 1\n",
    "        if sum(curr_loc) == 5 * N:\n",
    "            print(\"final result:\", curr_pt)\n",
    "            break\n",
    "        # push all new points\n",
    "        for i in range(5):\n",
    "            if curr_loc[i] < len(W[i]):\n",
    "                if curr_char.get(W[i][curr_loc[i]]) == None:\n",
    "                    curr_char[W[i][curr_loc[i]]] = 1\n",
    "                    temp_pt = [i, curr_loc[i], curr_loc, curr_pt[1][3] + 1]# add one to the original step\n",
    "                    temp_h = heuristic(temp_pt, N, W)\n",
    "                    heapq.heappush(heap, [temp_h, temp_pt,curr_pt[2] + W[i][curr_loc[i]]])\n",
    "        "
   ]
  },
  {
   "cell_type": "code",
   "execution_count": 98,
   "metadata": {
    "collapsed": false
   },
   "outputs": [
    {
     "name": "stdout",
     "output_type": "stream",
     "text": [
      "Total Points: 960\n",
      "final result: [11, [2, 4, [5, 5, 4, 5, 5], 11], 'BDAEDCBACDE']\n"
     ]
    }
   ],
   "source": [
    "A_star(5, W)"
   ]
  },
  {
   "cell_type": "code",
   "execution_count": 22,
   "metadata": {
    "collapsed": false
   },
   "outputs": [],
   "source": [
    "import heapq\n",
    "import copy\n",
    "#     A    B    C     D    E\n",
    "D = [[0, 1064, 673, 1401, 277],\n",
    "     [1064, 0, 958, 1934, 337],\n",
    "     [673, 958, 0, 1001, 399],\n",
    "     [1401, 1934, 1001, 0, 387],\n",
    "     [277, 337, 399, 387, 0]]\n",
    "\n",
    "\n",
    "# The credits for this code go to UIUC_CS440_FALL18_HW01 by Zhenwei Wu, Yuji Chai, Zhoushi Zhu \n",
    "# uptree\n",
    "def addelement_dset(dset, num):\n",
    "    for i in range(num):\n",
    "        dset.append(-1)\n",
    "\n",
    "def find_dset(dset, elem):\n",
    "    if(dset[elem] < 0):\n",
    "        return elem\n",
    "    else:\n",
    "        find_result = find_dset(dset,dset[elem])\n",
    "        dset[elem] = find_result\n",
    "        return find_result\n",
    "\n",
    "def setunion_dset(dset, a, b):\n",
    "    root1 = find_dset(dset,a)\n",
    "    root2 = find_dset(dset,b)\n",
    "    \n",
    "    newsize = dset[root1] + dset[root2]\n",
    "    if(dset[root1] >= dset[root2]):\n",
    "        dset[root2] = root1\n",
    "        dset[root1] = newsize\n",
    "    else:\n",
    "        dset[root1] = root2\n",
    "        dset[root2] = newsize\n",
    "# generate distance = [1401, 'D2', 'A4']       \n",
    "def hForAll(ls):\n",
    "    visit_dic = {}\n",
    "    distance_list = []\n",
    "    for i in range(len(ls)):\n",
    "        for j in range(i+1, len(ls)):\n",
    "            if ls[i][0] != ls[j][0]:\n",
    "                temp_distance = D[ord(ls[i][0])-65][ord(ls[j][0])-65]\n",
    "                distance_list.append([temp_distance, [ls[i][0], str(ls[i][1])],[ls[j][0], str(ls[j][1])]])\n",
    "    return distance_list\n",
    "\n",
    "# Krusal\n",
    "def mst(ls):\n",
    "    #print(\"ls:\",ls)\n",
    "    dset = []\n",
    "    Edge = hForAll(ls)\n",
    "    E_heap = []\n",
    "    distance_dic = {}\n",
    "    addelement_dset(dset, len(ls))\n",
    "    ct = 0 # give each widge a special number, for uptree\n",
    "    for elm in Edge:\n",
    "        heapq.heappush(E_heap, elm)\n",
    "        if distance_dic.get(elm[1][0] + elm[1][1]) == None:\n",
    "            distance_dic[elm[1][0] + elm[1][1]] = ct\n",
    "            ct += 1\n",
    "        if distance_dic.get(elm[2][0] + elm[2][1]) == None:\n",
    "            distance_dic[elm[2][0] + elm[2][1]] = ct\n",
    "            ct += 1\n",
    "    edge_count = 0\n",
    "    total_dist = 0\n",
    "    while E_heap:\n",
    "        if edge_count == len(ls) - 1:\n",
    "            break\n",
    "        it = heapq.heappop(E_heap)\n",
    "        A = distance_dic[it[1][0] + it[1][1]]\n",
    "        B = distance_dic[it[2][0] + it[2][1]]\n",
    "        #for i in Edge:\n",
    "        if find_dset(dset,A) != find_dset(dset,B):\n",
    "            #print(\"cur_edge:\", it, \" \", it[0])\n",
    "            edge_count += 1\n",
    "            total_dist += it[0]\n",
    "            setunion_dset(dset,A, B)\n",
    "        #print(\"total_dist:\", total_dist)\n",
    "    return total_dist\n",
    "##########################################################################    \n",
    "sample = [0, 2, [2, 3, 2, 2, 2], 2789]\n",
    "\n",
    "def h_distance(pt, W):\n",
    "    char_dic = {}\n",
    "    w_ls = []\n",
    "    for i in range(5):\n",
    "        curr = pt[2][i]\n",
    "        while curr != len(W[i]):\n",
    "            if char_dic.get(W[i][curr] + str(curr)) == None:\n",
    "                char_dic[W[i][curr] + str(curr)] = 1\n",
    "                w_ls.append([W[i][curr],curr])\n",
    "            curr += 1 \n",
    "    return mst(w_ls) + pt[-1]\n",
    "\n",
    "#print(h_distance(sample))\n",
    "    "
   ]
  },
  {
   "cell_type": "code",
   "execution_count": 23,
   "metadata": {
    "collapsed": false
   },
   "outputs": [
    {
     "name": "stdout",
     "output_type": "stream",
     "text": [
      "6712\n"
     ]
    }
   ],
   "source": [
    "print(h_distance(sample, W2))"
   ]
  },
  {
   "cell_type": "code",
   "execution_count": 24,
   "metadata": {
    "collapsed": false
   },
   "outputs": [],
   "source": [
    "# pt_sample = [W#, # widget, (pt1, pt2, pt3, pt4, pt5), steps]\n",
    "# s = [0,[-1, -1, [0, 0, 0, 0, 0], step]]\n",
    "import heapq\n",
    "import copy\n",
    "\n",
    "def A_star_D(N, W): # widget with length N; W list\n",
    "    curr_char = {}\n",
    "    loc = [0, 0, 0, 0, 0]\n",
    "    heap = []\n",
    "    # initialize points\n",
    "    for i in range(5):\n",
    "        if curr_char.get(W[i][0]) == None:\n",
    "            curr_char[W[i][0]] = 1\n",
    "            temp_pt = [i, 0, loc, 0]\n",
    "            temp_h = h_distance(temp_pt, W)\n",
    "            heapq.heappush(heap, [temp_h, temp_pt,W[i][0]])\n",
    "    # start search\n",
    "    while heap:\n",
    "        curr_char.clear() # clear the dictionary\n",
    "        curr_pt = heapq.heappop(heap)\n",
    "        curr_loc = copy.deepcopy(curr_pt[1][2])\n",
    "        curr_w = W[curr_pt[1][0]][curr_pt[1][1]]\n",
    "        # update new location\n",
    "        for i in range(5):\n",
    "            if curr_loc[i] < len(W[i]):\n",
    "                if W[i][curr_loc[i]] == curr_w:\n",
    "                    curr_loc[i] += 1\n",
    "        if sum(curr_loc) == 5 * N:\n",
    "            print(\"Final: \",curr_pt)\n",
    "            break\n",
    "        # push all new points\n",
    "        for i in range(5):\n",
    "            possible_next = \"\"\n",
    "            if curr_loc[i] < len(W[i]):\n",
    "                if curr_char.get(W[i][curr_loc[i]]) == None:\n",
    "                    curr_char[W[i][curr_loc[i]]] = 1\n",
    "                    \n",
    "                    temp_pt = [i, curr_loc[i], curr_loc, curr_pt[1][3] + \n",
    "                               D[ord(curr_w)-65][ord(W[i][curr_loc[i]])-65]]# add new distance to the original step\n",
    "                    temp_h = h_distance(temp_pt, W)\n",
    "                    #possible_next += str(temp_pt) + \"-->\" + W[i][curr_loc[i]] + \"; \"\n",
    "                    heapq.heappush(heap, [temp_h, temp_pt,curr_pt[2] + W[i][curr_loc[i]]])\n",
    "            \n",
    "        "
   ]
  },
  {
   "cell_type": "code",
   "execution_count": 15,
   "metadata": {
    "collapsed": false,
    "scrolled": false
   },
   "outputs": [
    {
     "name": "stdout",
     "output_type": "stream",
     "text": [
      "final result: [13, [0, 5, [5, 6, 6, 6, 6], 13], 'BDEABCDBEDCAB']\n"
     ]
    }
   ],
   "source": [
    "A_star(6, W2)"
   ]
  },
  {
   "cell_type": "code",
   "execution_count": 97,
   "metadata": {
    "collapsed": false
   },
   "outputs": [
    {
     "name": "stdout",
     "output_type": "stream",
     "text": [
      "Total Points: 960\n",
      "final result: [11, [2, 4, [5, 5, 4, 5, 5], 11], 'BDAEDCBACDE']\n"
     ]
    }
   ],
   "source": [
    "A_star(5, W)"
   ]
  },
  {
   "cell_type": "code",
   "execution_count": 26,
   "metadata": {
    "collapsed": false
   },
   "outputs": [
    {
     "name": "stdout",
     "output_type": "stream",
     "text": [
      "Final:  [9671, [2, 5, [6, 6, 5, 6, 6], 9671], 'BEDADCBEDCABED']\n"
     ]
    }
   ],
   "source": [
    "A_star_D(6, W2)"
   ]
  },
  {
   "cell_type": "code",
   "execution_count": 27,
   "metadata": {
    "collapsed": false
   },
   "outputs": [
    {
     "name": "stdout",
     "output_type": "stream",
     "text": [
      "Final:  [7043, [1, 4, [5, 4, 5, 4, 4], 7043], 'BEDAEDCBCAED']\n"
     ]
    }
   ],
   "source": [
    "A_star_D(5, W)"
   ]
  },
  {
   "cell_type": "code",
   "execution_count": 85,
   "metadata": {
    "collapsed": false
   },
   "outputs": [],
   "source": [
    "from random import shuffle\n",
    "x = [[i] for i in range(10)]\n",
    "shuffle(x)\n",
    "\n",
    "def problem_generator(N):\n",
    "    new_widget = []\n",
    "    string = 'ABCDE'\n",
    "    for i in range(5):\n",
    "        last = 'L'\n",
    "        temp = []\n",
    "        for k in range(N):\n",
    "            temp_rand = [0,1,2,3,4] \n",
    "            shuffle(temp_rand) # get true random number\n",
    "            temp_char = string[temp_rand[0]]\n",
    "            while temp_char == last:\n",
    "                shuffle(temp_rand)\n",
    "                temp_char = string[temp_rand[0]]\n",
    "            temp.append(str(temp_char))\n",
    "            last = temp_char\n",
    "        new_widget.append(temp)\n",
    "    return new_widget"
   ]
  },
  {
   "cell_type": "code",
   "execution_count": 91,
   "metadata": {
    "collapsed": false
   },
   "outputs": [
    {
     "name": "stdout",
     "output_type": "stream",
     "text": [
      "['C', 'D', 'A', 'E']\n",
      "['E', 'C', 'B', 'D']\n",
      "['B', 'A', 'C', 'B']\n",
      "['A', 'B', 'A', 'B']\n",
      "['E', 'C', 'B', 'A']\n"
     ]
    }
   ],
   "source": [
    "W_test = problem_generator(4)\n",
    "for i in W_test:\n",
    "    print(i)"
   ]
  },
  {
   "cell_type": "code",
   "execution_count": 92,
   "metadata": {
    "collapsed": false
   },
   "outputs": [
    {
     "name": "stdout",
     "output_type": "stream",
     "text": [
      "final result: [9, [0, 3, [3, 4, 4, 4, 4], 9], 'BAECBDABE']\n"
     ]
    }
   ],
   "source": [
    "A_star(4, W_test)"
   ]
  },
  {
   "cell_type": "code",
   "execution_count": 75,
   "metadata": {
    "collapsed": false
   },
   "outputs": [
    {
     "name": "stdout",
     "output_type": "stream",
     "text": [
      "A\n"
     ]
    }
   ],
   "source": [
    "string = 'ABCD'\n",
    "print(string[0])"
   ]
  },
  {
   "cell_type": "code",
   "execution_count": null,
   "metadata": {
    "collapsed": true
   },
   "outputs": [],
   "source": []
  }
 ],
 "metadata": {
  "anaconda-cloud": {},
  "kernelspec": {
   "display_name": "Python [conda env:anaconda]",
   "language": "python",
   "name": "conda-env-anaconda-py"
  },
  "language_info": {
   "codemirror_mode": {
    "name": "ipython",
    "version": 3
   },
   "file_extension": ".py",
   "mimetype": "text/x-python",
   "name": "python",
   "nbconvert_exporter": "python",
   "pygments_lexer": "ipython3",
   "version": "3.5.2"
  }
 },
 "nbformat": 4,
 "nbformat_minor": 1
}
